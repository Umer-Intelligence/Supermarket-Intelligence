{
 "cells": [
  {
   "cell_type": "code",
   "execution_count": null,
   "id": "developing-drinking",
   "metadata": {},
   "outputs": [],
   "source": [
    "#We will analyze the supermarket dataset using R"
   ]
  },
  {
   "cell_type": "markdown",
   "id": "brief-haiti",
   "metadata": {},
   "source": [
    "# Loading Library"
   ]
  },
  {
   "cell_type": "code",
   "execution_count": 1,
   "id": "accessible-functionality",
   "metadata": {
    "scrolled": false
   },
   "outputs": [
    {
     "name": "stderr",
     "output_type": "stream",
     "text": [
      "Warning message:\n",
      "\"package 'dplyr' was built under R version 4.1.0\"\n",
      "\n",
      "Attaching package: 'dplyr'\n",
      "\n",
      "\n",
      "The following objects are masked from 'package:stats':\n",
      "\n",
      "    filter, lag\n",
      "\n",
      "\n",
      "The following objects are masked from 'package:base':\n",
      "\n",
      "    intersect, setdiff, setequal, union\n",
      "\n",
      "\n"
     ]
    }
   ],
   "source": [
    "library(dplyr)"
   ]
  },
  {
   "cell_type": "code",
   "execution_count": 5,
   "id": "scheduled-trinity",
   "metadata": {},
   "outputs": [],
   "source": [
    "library(ggplot2)"
   ]
  },
  {
   "cell_type": "markdown",
   "id": "lovely-signal",
   "metadata": {},
   "source": [
    "# Loading csv"
   ]
  },
  {
   "cell_type": "code",
   "execution_count": 2,
   "id": "piano-platform",
   "metadata": {},
   "outputs": [],
   "source": [
    "Supermarket <- read.csv('E:/Datasets/Supermarket.csv')"
   ]
  },
  {
   "cell_type": "markdown",
   "id": "suspended-meditation",
   "metadata": {},
   "source": [
    "# Analysing dataset"
   ]
  },
  {
   "cell_type": "code",
   "execution_count": 3,
   "id": "understanding-albania",
   "metadata": {},
   "outputs": [
    {
     "data": {
      "text/html": [
       "<table class=\"dataframe\">\n",
       "<caption>A data.frame: 6 × 18</caption>\n",
       "<thead>\n",
       "\t<tr><th></th><th scope=col>Invoice.ID</th><th scope=col>Branch</th><th scope=col>City</th><th scope=col>Customer</th><th scope=col>Gender</th><th scope=col>Product</th><th scope=col>Unit.price</th><th scope=col>Quantity</th><th scope=col>Tax.5.</th><th scope=col>Total</th><th scope=col>Date</th><th scope=col>Time</th><th scope=col>Payment</th><th scope=col>cogs</th><th scope=col>gross.margin</th><th scope=col>gross.income</th><th scope=col>Rating</th><th scope=col>X</th></tr>\n",
       "\t<tr><th></th><th scope=col>&lt;chr&gt;</th><th scope=col>&lt;chr&gt;</th><th scope=col>&lt;chr&gt;</th><th scope=col>&lt;chr&gt;</th><th scope=col>&lt;chr&gt;</th><th scope=col>&lt;chr&gt;</th><th scope=col>&lt;dbl&gt;</th><th scope=col>&lt;int&gt;</th><th scope=col>&lt;dbl&gt;</th><th scope=col>&lt;dbl&gt;</th><th scope=col>&lt;chr&gt;</th><th scope=col>&lt;chr&gt;</th><th scope=col>&lt;chr&gt;</th><th scope=col>&lt;dbl&gt;</th><th scope=col>&lt;dbl&gt;</th><th scope=col>&lt;dbl&gt;</th><th scope=col>&lt;dbl&gt;</th><th scope=col>&lt;dbl&gt;</th></tr>\n",
       "</thead>\n",
       "<tbody>\n",
       "\t<tr><th scope=row>1</th><td>750-67-8428</td><td>A</td><td>Yangon   </td><td>Member</td><td>Female</td><td>Health and beauty     </td><td>74.69</td><td>7</td><td>26.1415</td><td>548.9715</td><td>01/05/2019</td><td>13:08</td><td>Ewallet    </td><td>522.83</td><td>4.761905</td><td>26.1415</td><td>9.1</td><td>   NA</td></tr>\n",
       "\t<tr><th scope=row>2</th><td>226-31-3081</td><td>C</td><td>Naypyitaw</td><td>Normal</td><td>Female</td><td>Electronic accessories</td><td>15.28</td><td>5</td><td> 3.8200</td><td> 80.2200</td><td>03/08/2019</td><td>10:29</td><td>Cash       </td><td> 76.40</td><td>4.761905</td><td> 3.8200</td><td>9.6</td><td>   NA</td></tr>\n",
       "\t<tr><th scope=row>3</th><td>631-41-3108</td><td>A</td><td>Yangon   </td><td>Normal</td><td>Male  </td><td>Home and lifestyle    </td><td>46.33</td><td>7</td><td>16.2155</td><td>340.5255</td><td>03/03/2019</td><td>13:23</td><td>Credit card</td><td>324.31</td><td>4.761905</td><td>16.2155</td><td>7.4</td><td>   NA</td></tr>\n",
       "\t<tr><th scope=row>4</th><td>123-19-1176</td><td>A</td><td>Yangon   </td><td>Member</td><td>Male  </td><td>Health and beauty     </td><td>58.22</td><td>8</td><td>23.2880</td><td>489.0480</td><td>1/27/2019 </td><td>20:33</td><td>Ewallet    </td><td>465.76</td><td>4.761905</td><td>23.2880</td><td>8.4</td><td>   NA</td></tr>\n",
       "\t<tr><th scope=row>5</th><td>373-73-7910</td><td>A</td><td>Yangon   </td><td>Normal</td><td>Male  </td><td>Sports and travel     </td><td>86.31</td><td>7</td><td>30.2085</td><td>634.3785</td><td>02/08/2019</td><td>10:37</td><td>Ewallet    </td><td>604.17</td><td>4.761905</td><td>30.2085</td><td>5.3</td><td>99.96</td></tr>\n",
       "\t<tr><th scope=row>6</th><td>699-14-3026</td><td>C</td><td>Naypyitaw</td><td>Normal</td><td>Male  </td><td>Electronic accessories</td><td>85.39</td><td>7</td><td>29.8865</td><td>627.6165</td><td>3/25/2019 </td><td>18:30</td><td>Ewallet    </td><td>597.73</td><td>4.761905</td><td>29.8865</td><td>4.1</td><td>   NA</td></tr>\n",
       "</tbody>\n",
       "</table>\n"
      ],
      "text/latex": [
       "A data.frame: 6 × 18\n",
       "\\begin{tabular}{r|llllllllllllllllll}\n",
       "  & Invoice.ID & Branch & City & Customer & Gender & Product & Unit.price & Quantity & Tax.5. & Total & Date & Time & Payment & cogs & gross.margin & gross.income & Rating & X\\\\\n",
       "  & <chr> & <chr> & <chr> & <chr> & <chr> & <chr> & <dbl> & <int> & <dbl> & <dbl> & <chr> & <chr> & <chr> & <dbl> & <dbl> & <dbl> & <dbl> & <dbl>\\\\\n",
       "\\hline\n",
       "\t1 & 750-67-8428 & A & Yangon    & Member & Female & Health and beauty      & 74.69 & 7 & 26.1415 & 548.9715 & 01/05/2019 & 13:08 & Ewallet     & 522.83 & 4.761905 & 26.1415 & 9.1 &    NA\\\\\n",
       "\t2 & 226-31-3081 & C & Naypyitaw & Normal & Female & Electronic accessories & 15.28 & 5 &  3.8200 &  80.2200 & 03/08/2019 & 10:29 & Cash        &  76.40 & 4.761905 &  3.8200 & 9.6 &    NA\\\\\n",
       "\t3 & 631-41-3108 & A & Yangon    & Normal & Male   & Home and lifestyle     & 46.33 & 7 & 16.2155 & 340.5255 & 03/03/2019 & 13:23 & Credit card & 324.31 & 4.761905 & 16.2155 & 7.4 &    NA\\\\\n",
       "\t4 & 123-19-1176 & A & Yangon    & Member & Male   & Health and beauty      & 58.22 & 8 & 23.2880 & 489.0480 & 1/27/2019  & 20:33 & Ewallet     & 465.76 & 4.761905 & 23.2880 & 8.4 &    NA\\\\\n",
       "\t5 & 373-73-7910 & A & Yangon    & Normal & Male   & Sports and travel      & 86.31 & 7 & 30.2085 & 634.3785 & 02/08/2019 & 10:37 & Ewallet     & 604.17 & 4.761905 & 30.2085 & 5.3 & 99.96\\\\\n",
       "\t6 & 699-14-3026 & C & Naypyitaw & Normal & Male   & Electronic accessories & 85.39 & 7 & 29.8865 & 627.6165 & 3/25/2019  & 18:30 & Ewallet     & 597.73 & 4.761905 & 29.8865 & 4.1 &    NA\\\\\n",
       "\\end{tabular}\n"
      ],
      "text/markdown": [
       "\n",
       "A data.frame: 6 × 18\n",
       "\n",
       "| <!--/--> | Invoice.ID &lt;chr&gt; | Branch &lt;chr&gt; | City &lt;chr&gt; | Customer &lt;chr&gt; | Gender &lt;chr&gt; | Product &lt;chr&gt; | Unit.price &lt;dbl&gt; | Quantity &lt;int&gt; | Tax.5. &lt;dbl&gt; | Total &lt;dbl&gt; | Date &lt;chr&gt; | Time &lt;chr&gt; | Payment &lt;chr&gt; | cogs &lt;dbl&gt; | gross.margin &lt;dbl&gt; | gross.income &lt;dbl&gt; | Rating &lt;dbl&gt; | X &lt;dbl&gt; |\n",
       "|---|---|---|---|---|---|---|---|---|---|---|---|---|---|---|---|---|---|---|\n",
       "| 1 | 750-67-8428 | A | Yangon    | Member | Female | Health and beauty      | 74.69 | 7 | 26.1415 | 548.9715 | 01/05/2019 | 13:08 | Ewallet     | 522.83 | 4.761905 | 26.1415 | 9.1 |    NA |\n",
       "| 2 | 226-31-3081 | C | Naypyitaw | Normal | Female | Electronic accessories | 15.28 | 5 |  3.8200 |  80.2200 | 03/08/2019 | 10:29 | Cash        |  76.40 | 4.761905 |  3.8200 | 9.6 |    NA |\n",
       "| 3 | 631-41-3108 | A | Yangon    | Normal | Male   | Home and lifestyle     | 46.33 | 7 | 16.2155 | 340.5255 | 03/03/2019 | 13:23 | Credit card | 324.31 | 4.761905 | 16.2155 | 7.4 |    NA |\n",
       "| 4 | 123-19-1176 | A | Yangon    | Member | Male   | Health and beauty      | 58.22 | 8 | 23.2880 | 489.0480 | 1/27/2019  | 20:33 | Ewallet     | 465.76 | 4.761905 | 23.2880 | 8.4 |    NA |\n",
       "| 5 | 373-73-7910 | A | Yangon    | Normal | Male   | Sports and travel      | 86.31 | 7 | 30.2085 | 634.3785 | 02/08/2019 | 10:37 | Ewallet     | 604.17 | 4.761905 | 30.2085 | 5.3 | 99.96 |\n",
       "| 6 | 699-14-3026 | C | Naypyitaw | Normal | Male   | Electronic accessories | 85.39 | 7 | 29.8865 | 627.6165 | 3/25/2019  | 18:30 | Ewallet     | 597.73 | 4.761905 | 29.8865 | 4.1 |    NA |\n",
       "\n"
      ],
      "text/plain": [
       "  Invoice.ID  Branch City      Customer Gender Product               \n",
       "1 750-67-8428 A      Yangon    Member   Female Health and beauty     \n",
       "2 226-31-3081 C      Naypyitaw Normal   Female Electronic accessories\n",
       "3 631-41-3108 A      Yangon    Normal   Male   Home and lifestyle    \n",
       "4 123-19-1176 A      Yangon    Member   Male   Health and beauty     \n",
       "5 373-73-7910 A      Yangon    Normal   Male   Sports and travel     \n",
       "6 699-14-3026 C      Naypyitaw Normal   Male   Electronic accessories\n",
       "  Unit.price Quantity Tax.5.  Total    Date       Time  Payment     cogs  \n",
       "1 74.69      7        26.1415 548.9715 01/05/2019 13:08 Ewallet     522.83\n",
       "2 15.28      5         3.8200  80.2200 03/08/2019 10:29 Cash         76.40\n",
       "3 46.33      7        16.2155 340.5255 03/03/2019 13:23 Credit card 324.31\n",
       "4 58.22      8        23.2880 489.0480 1/27/2019  20:33 Ewallet     465.76\n",
       "5 86.31      7        30.2085 634.3785 02/08/2019 10:37 Ewallet     604.17\n",
       "6 85.39      7        29.8865 627.6165 3/25/2019  18:30 Ewallet     597.73\n",
       "  gross.margin gross.income Rating X    \n",
       "1 4.761905     26.1415      9.1       NA\n",
       "2 4.761905      3.8200      9.6       NA\n",
       "3 4.761905     16.2155      7.4       NA\n",
       "4 4.761905     23.2880      8.4       NA\n",
       "5 4.761905     30.2085      5.3    99.96\n",
       "6 4.761905     29.8865      4.1       NA"
      ]
     },
     "metadata": {},
     "output_type": "display_data"
    }
   ],
   "source": [
    "head(Supermarket)"
   ]
  },
  {
   "cell_type": "code",
   "execution_count": null,
   "id": "vocational-forth",
   "metadata": {},
   "outputs": [],
   "source": [
    "#To check all invoive IDs of Yangon"
   ]
  },
  {
   "cell_type": "code",
   "execution_count": 23,
   "id": "generic-upset",
   "metadata": {},
   "outputs": [
    {
     "data": {
      "text/html": [
       "<table class=\"dataframe\">\n",
       "<caption>A data.frame: 6 × 2</caption>\n",
       "<thead>\n",
       "\t<tr><th></th><th scope=col>City</th><th scope=col>Invoice.ID</th></tr>\n",
       "\t<tr><th></th><th scope=col>&lt;chr&gt;</th><th scope=col>&lt;chr&gt;</th></tr>\n",
       "</thead>\n",
       "<tbody>\n",
       "\t<tr><th scope=row>1</th><td>Yangon</td><td>750-67-8428</td></tr>\n",
       "\t<tr><th scope=row>2</th><td>Yangon</td><td>631-41-3108</td></tr>\n",
       "\t<tr><th scope=row>3</th><td>Yangon</td><td>123-19-1176</td></tr>\n",
       "\t<tr><th scope=row>4</th><td>Yangon</td><td>373-73-7910</td></tr>\n",
       "\t<tr><th scope=row>5</th><td>Yangon</td><td>355-53-5943</td></tr>\n",
       "\t<tr><th scope=row>6</th><td>Yangon</td><td>665-32-9167</td></tr>\n",
       "</tbody>\n",
       "</table>\n"
      ],
      "text/latex": [
       "A data.frame: 6 × 2\n",
       "\\begin{tabular}{r|ll}\n",
       "  & City & Invoice.ID\\\\\n",
       "  & <chr> & <chr>\\\\\n",
       "\\hline\n",
       "\t1 & Yangon & 750-67-8428\\\\\n",
       "\t2 & Yangon & 631-41-3108\\\\\n",
       "\t3 & Yangon & 123-19-1176\\\\\n",
       "\t4 & Yangon & 373-73-7910\\\\\n",
       "\t5 & Yangon & 355-53-5943\\\\\n",
       "\t6 & Yangon & 665-32-9167\\\\\n",
       "\\end{tabular}\n"
      ],
      "text/markdown": [
       "\n",
       "A data.frame: 6 × 2\n",
       "\n",
       "| <!--/--> | City &lt;chr&gt; | Invoice.ID &lt;chr&gt; |\n",
       "|---|---|---|\n",
       "| 1 | Yangon | 750-67-8428 |\n",
       "| 2 | Yangon | 631-41-3108 |\n",
       "| 3 | Yangon | 123-19-1176 |\n",
       "| 4 | Yangon | 373-73-7910 |\n",
       "| 5 | Yangon | 355-53-5943 |\n",
       "| 6 | Yangon | 665-32-9167 |\n",
       "\n"
      ],
      "text/plain": [
       "  City   Invoice.ID \n",
       "1 Yangon 750-67-8428\n",
       "2 Yangon 631-41-3108\n",
       "3 Yangon 123-19-1176\n",
       "4 Yangon 373-73-7910\n",
       "5 Yangon 355-53-5943\n",
       "6 Yangon 665-32-9167"
      ]
     },
     "metadata": {},
     "output_type": "display_data"
    }
   ],
   "source": [
    "head(Supermarket %>% select(City,Invoice.ID) %>% filter(City=='Yangon'))"
   ]
  },
  {
   "cell_type": "code",
   "execution_count": 24,
   "id": "shared-minneapolis",
   "metadata": {},
   "outputs": [],
   "source": [
    "#To find the total gross income of each city "
   ]
  },
  {
   "cell_type": "code",
   "execution_count": 27,
   "id": "incorporate-young",
   "metadata": {},
   "outputs": [
    {
     "name": "stderr",
     "output_type": "stream",
     "text": [
      "`summarise()` ungrouping output (override with `.groups` argument)\n",
      "\n"
     ]
    },
    {
     "data": {
      "text/html": [
       "<table class=\"dataframe\">\n",
       "<caption>A tibble: 3 × 2</caption>\n",
       "<thead>\n",
       "\t<tr><th scope=col>City</th><th scope=col>gross.income</th></tr>\n",
       "\t<tr><th scope=col>&lt;chr&gt;</th><th scope=col>&lt;dbl&gt;</th></tr>\n",
       "</thead>\n",
       "<tbody>\n",
       "\t<tr><td>Mandalay </td><td>5057.032</td></tr>\n",
       "\t<tr><td>Naypyitaw</td><td>5265.176</td></tr>\n",
       "\t<tr><td>Yangon   </td><td>5057.160</td></tr>\n",
       "</tbody>\n",
       "</table>\n"
      ],
      "text/latex": [
       "A tibble: 3 × 2\n",
       "\\begin{tabular}{ll}\n",
       " City & gross.income\\\\\n",
       " <chr> & <dbl>\\\\\n",
       "\\hline\n",
       "\t Mandalay  & 5057.032\\\\\n",
       "\t Naypyitaw & 5265.176\\\\\n",
       "\t Yangon    & 5057.160\\\\\n",
       "\\end{tabular}\n"
      ],
      "text/markdown": [
       "\n",
       "A tibble: 3 × 2\n",
       "\n",
       "| City &lt;chr&gt; | gross.income &lt;dbl&gt; |\n",
       "|---|---|\n",
       "| Mandalay  | 5057.032 |\n",
       "| Naypyitaw | 5265.176 |\n",
       "| Yangon    | 5057.160 |\n",
       "\n"
      ],
      "text/plain": [
       "  City      gross.income\n",
       "1 Mandalay  5057.032    \n",
       "2 Naypyitaw 5265.176    \n",
       "3 Yangon    5057.160    "
      ]
     },
     "metadata": {},
     "output_type": "display_data"
    }
   ],
   "source": [
    "Supermarket %>% group_by(City) %>% summarise(`gross.income`=sum(`gross.income`))"
   ]
  },
  {
   "cell_type": "code",
   "execution_count": 2,
   "id": "proved-schema",
   "metadata": {},
   "outputs": [],
   "source": [
    "#To check which product has the highest unit price"
   ]
  },
  {
   "cell_type": "code",
   "execution_count": 6,
   "id": "composite-caribbean",
   "metadata": {},
   "outputs": [
    {
     "name": "stderr",
     "output_type": "stream",
     "text": [
      "`summarise()` ungrouping output (override with `.groups` argument)\n",
      "\n"
     ]
    },
    {
     "data": {
      "text/html": [
       "<table class=\"dataframe\">\n",
       "<caption>A tibble: 6 × 2</caption>\n",
       "<thead>\n",
       "\t<tr><th scope=col>Product</th><th scope=col>Unit.price</th></tr>\n",
       "\t<tr><th scope=col>&lt;chr&gt;</th><th scope=col>&lt;dbl&gt;</th></tr>\n",
       "</thead>\n",
       "<tbody>\n",
       "\t<tr><td>Electronic accessories</td><td>99.73</td></tr>\n",
       "\t<tr><td>Fashion accessories   </td><td>99.89</td></tr>\n",
       "\t<tr><td>Food and beverages    </td><td>99.79</td></tr>\n",
       "\t<tr><td>Health and beauty     </td><td>99.96</td></tr>\n",
       "\t<tr><td>Home and lifestyle    </td><td>99.92</td></tr>\n",
       "\t<tr><td>Sports and travel     </td><td>99.96</td></tr>\n",
       "</tbody>\n",
       "</table>\n"
      ],
      "text/latex": [
       "A tibble: 6 × 2\n",
       "\\begin{tabular}{ll}\n",
       " Product & Unit.price\\\\\n",
       " <chr> & <dbl>\\\\\n",
       "\\hline\n",
       "\t Electronic accessories & 99.73\\\\\n",
       "\t Fashion accessories    & 99.89\\\\\n",
       "\t Food and beverages     & 99.79\\\\\n",
       "\t Health and beauty      & 99.96\\\\\n",
       "\t Home and lifestyle     & 99.92\\\\\n",
       "\t Sports and travel      & 99.96\\\\\n",
       "\\end{tabular}\n"
      ],
      "text/markdown": [
       "\n",
       "A tibble: 6 × 2\n",
       "\n",
       "| Product &lt;chr&gt; | Unit.price &lt;dbl&gt; |\n",
       "|---|---|\n",
       "| Electronic accessories | 99.73 |\n",
       "| Fashion accessories    | 99.89 |\n",
       "| Food and beverages     | 99.79 |\n",
       "| Health and beauty      | 99.96 |\n",
       "| Home and lifestyle     | 99.92 |\n",
       "| Sports and travel      | 99.96 |\n",
       "\n"
      ],
      "text/plain": [
       "  Product                Unit.price\n",
       "1 Electronic accessories 99.73     \n",
       "2 Fashion accessories    99.89     \n",
       "3 Food and beverages     99.79     \n",
       "4 Health and beauty      99.96     \n",
       "5 Home and lifestyle     99.92     \n",
       "6 Sports and travel      99.96     "
      ]
     },
     "metadata": {},
     "output_type": "display_data"
    }
   ],
   "source": [
    "Supermarket %>% group_by(Product) %>% summarise(Unit.price=max(Unit.price))"
   ]
  },
  {
   "cell_type": "code",
   "execution_count": 9,
   "id": "mathematical-meaning",
   "metadata": {},
   "outputs": [],
   "source": [
    "#To check the invoice ID generated against the highest sale"
   ]
  },
  {
   "cell_type": "code",
   "execution_count": 13,
   "id": "desperate-howard",
   "metadata": {},
   "outputs": [
    {
     "data": {
      "text/html": [
       "<style>\n",
       ".list-inline {list-style: none; margin:0; padding: 0}\n",
       ".list-inline>li {display: inline-block}\n",
       ".list-inline>li:not(:last-child)::after {content: \"\\00b7\"; padding: 0 .5ex}\n",
       "</style>\n",
       "<ol class=list-inline><li>'219-22-9386'</li><li>'148-41-7930'</li></ol>\n"
      ],
      "text/latex": [
       "\\begin{enumerate*}\n",
       "\\item '219-22-9386'\n",
       "\\item '148-41-7930'\n",
       "\\end{enumerate*}\n"
      ],
      "text/markdown": [
       "1. '219-22-9386'\n",
       "2. '148-41-7930'\n",
       "\n",
       "\n"
      ],
      "text/plain": [
       "[1] \"219-22-9386\" \"148-41-7930\""
      ]
     },
     "metadata": {},
     "output_type": "display_data"
    }
   ],
   "source": [
    "Supermarket$Invoice.ID[Supermarket$Unit.price==max(Supermarket$Unit.price)]"
   ]
  },
  {
   "cell_type": "code",
   "execution_count": 14,
   "id": "medieval-sheet",
   "metadata": {},
   "outputs": [],
   "source": [
    "#To find the number of each type of customer"
   ]
  },
  {
   "cell_type": "code",
   "execution_count": 15,
   "id": "liquid-broadcast",
   "metadata": {},
   "outputs": [
    {
     "name": "stderr",
     "output_type": "stream",
     "text": [
      "`summarise()` ungrouping output (override with `.groups` argument)\n",
      "\n"
     ]
    },
    {
     "data": {
      "text/html": [
       "<table class=\"dataframe\">\n",
       "<caption>A tibble: 2 × 2</caption>\n",
       "<thead>\n",
       "\t<tr><th scope=col>Supermarket$Customer</th><th scope=col>n()</th></tr>\n",
       "\t<tr><th scope=col>&lt;chr&gt;</th><th scope=col>&lt;int&gt;</th></tr>\n",
       "</thead>\n",
       "<tbody>\n",
       "\t<tr><td>Member</td><td>501</td></tr>\n",
       "\t<tr><td>Normal</td><td>499</td></tr>\n",
       "</tbody>\n",
       "</table>\n"
      ],
      "text/latex": [
       "A tibble: 2 × 2\n",
       "\\begin{tabular}{ll}\n",
       " Supermarket\\$Customer & n()\\\\\n",
       " <chr> & <int>\\\\\n",
       "\\hline\n",
       "\t Member & 501\\\\\n",
       "\t Normal & 499\\\\\n",
       "\\end{tabular}\n"
      ],
      "text/markdown": [
       "\n",
       "A tibble: 2 × 2\n",
       "\n",
       "| Supermarket$Customer &lt;chr&gt; | n() &lt;int&gt; |\n",
       "|---|---|\n",
       "| Member | 501 |\n",
       "| Normal | 499 |\n",
       "\n"
      ],
      "text/plain": [
       "  Supermarket$Customer n()\n",
       "1 Member               501\n",
       "2 Normal               499"
      ]
     },
     "metadata": {},
     "output_type": "display_data"
    }
   ],
   "source": [
    "Supermarket %>% group_by(Supermarket$Customer) %>% summarise(n())"
   ]
  },
  {
   "cell_type": "code",
   "execution_count": 22,
   "id": "decent-sponsorship",
   "metadata": {},
   "outputs": [],
   "source": [
    "#To create a new column showing gross margin as a percentage of gross income"
   ]
  },
  {
   "cell_type": "code",
   "execution_count": 21,
   "id": "extensive-myanmar",
   "metadata": {},
   "outputs": [
    {
     "data": {
      "text/html": [
       "<table class=\"dataframe\">\n",
       "<caption>A data.frame: 6 × 19</caption>\n",
       "<thead>\n",
       "\t<tr><th></th><th scope=col>Invoice.ID</th><th scope=col>Branch</th><th scope=col>City</th><th scope=col>Customer</th><th scope=col>Gender</th><th scope=col>Product</th><th scope=col>Unit.price</th><th scope=col>Quantity</th><th scope=col>Tax.5.</th><th scope=col>Total</th><th scope=col>Date</th><th scope=col>Time</th><th scope=col>Payment</th><th scope=col>cogs</th><th scope=col>gross.margin</th><th scope=col>gross.income</th><th scope=col>Rating</th><th scope=col>X</th><th scope=col>gross.percentage</th></tr>\n",
       "\t<tr><th></th><th scope=col>&lt;chr&gt;</th><th scope=col>&lt;chr&gt;</th><th scope=col>&lt;chr&gt;</th><th scope=col>&lt;chr&gt;</th><th scope=col>&lt;chr&gt;</th><th scope=col>&lt;chr&gt;</th><th scope=col>&lt;dbl&gt;</th><th scope=col>&lt;int&gt;</th><th scope=col>&lt;dbl&gt;</th><th scope=col>&lt;dbl&gt;</th><th scope=col>&lt;chr&gt;</th><th scope=col>&lt;chr&gt;</th><th scope=col>&lt;chr&gt;</th><th scope=col>&lt;dbl&gt;</th><th scope=col>&lt;dbl&gt;</th><th scope=col>&lt;dbl&gt;</th><th scope=col>&lt;dbl&gt;</th><th scope=col>&lt;dbl&gt;</th><th scope=col>&lt;dbl&gt;</th></tr>\n",
       "</thead>\n",
       "<tbody>\n",
       "\t<tr><th scope=row>1</th><td>750-67-8428</td><td>A</td><td>Yangon   </td><td>Member</td><td>Female</td><td>Health and beauty     </td><td>74.69</td><td>7</td><td>26.1415</td><td>548.9715</td><td>01/05/2019</td><td>13:08</td><td>Ewallet    </td><td>522.83</td><td>4.761905</td><td>26.1415</td><td>9.1</td><td>   NA</td><td>0.1821588</td></tr>\n",
       "\t<tr><th scope=row>2</th><td>226-31-3081</td><td>C</td><td>Naypyitaw</td><td>Normal</td><td>Female</td><td>Electronic accessories</td><td>15.28</td><td>5</td><td> 3.8200</td><td> 80.2200</td><td>03/08/2019</td><td>10:29</td><td>Cash       </td><td> 76.40</td><td>4.761905</td><td> 3.8200</td><td>9.6</td><td>   NA</td><td>1.2465719</td></tr>\n",
       "\t<tr><th scope=row>3</th><td>631-41-3108</td><td>A</td><td>Yangon   </td><td>Normal</td><td>Male  </td><td>Home and lifestyle    </td><td>46.33</td><td>7</td><td>16.2155</td><td>340.5255</td><td>03/03/2019</td><td>13:23</td><td>Credit card</td><td>324.31</td><td>4.761905</td><td>16.2155</td><td>7.4</td><td>   NA</td><td>0.2936638</td></tr>\n",
       "\t<tr><th scope=row>4</th><td>123-19-1176</td><td>A</td><td>Yangon   </td><td>Member</td><td>Male  </td><td>Health and beauty     </td><td>58.22</td><td>8</td><td>23.2880</td><td>489.0480</td><td>1/27/2019 </td><td>20:33</td><td>Ewallet    </td><td>465.76</td><td>4.761905</td><td>23.2880</td><td>8.4</td><td>   NA</td><td>0.2044789</td></tr>\n",
       "\t<tr><th scope=row>5</th><td>373-73-7910</td><td>A</td><td>Yangon   </td><td>Normal</td><td>Male  </td><td>Sports and travel     </td><td>86.31</td><td>7</td><td>30.2085</td><td>634.3785</td><td>02/08/2019</td><td>10:37</td><td>Ewallet    </td><td>604.17</td><td>4.761905</td><td>30.2085</td><td>5.3</td><td>99.96</td><td>0.1576346</td></tr>\n",
       "\t<tr><th scope=row>6</th><td>699-14-3026</td><td>C</td><td>Naypyitaw</td><td>Normal</td><td>Male  </td><td>Electronic accessories</td><td>85.39</td><td>7</td><td>29.8865</td><td>627.6165</td><td>3/25/2019 </td><td>18:30</td><td>Ewallet    </td><td>597.73</td><td>4.761905</td><td>29.8865</td><td>4.1</td><td>   NA</td><td>0.1593330</td></tr>\n",
       "</tbody>\n",
       "</table>\n"
      ],
      "text/latex": [
       "A data.frame: 6 × 19\n",
       "\\begin{tabular}{r|lllllllllllllllllll}\n",
       "  & Invoice.ID & Branch & City & Customer & Gender & Product & Unit.price & Quantity & Tax.5. & Total & Date & Time & Payment & cogs & gross.margin & gross.income & Rating & X & gross.percentage\\\\\n",
       "  & <chr> & <chr> & <chr> & <chr> & <chr> & <chr> & <dbl> & <int> & <dbl> & <dbl> & <chr> & <chr> & <chr> & <dbl> & <dbl> & <dbl> & <dbl> & <dbl> & <dbl>\\\\\n",
       "\\hline\n",
       "\t1 & 750-67-8428 & A & Yangon    & Member & Female & Health and beauty      & 74.69 & 7 & 26.1415 & 548.9715 & 01/05/2019 & 13:08 & Ewallet     & 522.83 & 4.761905 & 26.1415 & 9.1 &    NA & 0.1821588\\\\\n",
       "\t2 & 226-31-3081 & C & Naypyitaw & Normal & Female & Electronic accessories & 15.28 & 5 &  3.8200 &  80.2200 & 03/08/2019 & 10:29 & Cash        &  76.40 & 4.761905 &  3.8200 & 9.6 &    NA & 1.2465719\\\\\n",
       "\t3 & 631-41-3108 & A & Yangon    & Normal & Male   & Home and lifestyle     & 46.33 & 7 & 16.2155 & 340.5255 & 03/03/2019 & 13:23 & Credit card & 324.31 & 4.761905 & 16.2155 & 7.4 &    NA & 0.2936638\\\\\n",
       "\t4 & 123-19-1176 & A & Yangon    & Member & Male   & Health and beauty      & 58.22 & 8 & 23.2880 & 489.0480 & 1/27/2019  & 20:33 & Ewallet     & 465.76 & 4.761905 & 23.2880 & 8.4 &    NA & 0.2044789\\\\\n",
       "\t5 & 373-73-7910 & A & Yangon    & Normal & Male   & Sports and travel      & 86.31 & 7 & 30.2085 & 634.3785 & 02/08/2019 & 10:37 & Ewallet     & 604.17 & 4.761905 & 30.2085 & 5.3 & 99.96 & 0.1576346\\\\\n",
       "\t6 & 699-14-3026 & C & Naypyitaw & Normal & Male   & Electronic accessories & 85.39 & 7 & 29.8865 & 627.6165 & 3/25/2019  & 18:30 & Ewallet     & 597.73 & 4.761905 & 29.8865 & 4.1 &    NA & 0.1593330\\\\\n",
       "\\end{tabular}\n"
      ],
      "text/markdown": [
       "\n",
       "A data.frame: 6 × 19\n",
       "\n",
       "| <!--/--> | Invoice.ID &lt;chr&gt; | Branch &lt;chr&gt; | City &lt;chr&gt; | Customer &lt;chr&gt; | Gender &lt;chr&gt; | Product &lt;chr&gt; | Unit.price &lt;dbl&gt; | Quantity &lt;int&gt; | Tax.5. &lt;dbl&gt; | Total &lt;dbl&gt; | Date &lt;chr&gt; | Time &lt;chr&gt; | Payment &lt;chr&gt; | cogs &lt;dbl&gt; | gross.margin &lt;dbl&gt; | gross.income &lt;dbl&gt; | Rating &lt;dbl&gt; | X &lt;dbl&gt; | gross.percentage &lt;dbl&gt; |\n",
       "|---|---|---|---|---|---|---|---|---|---|---|---|---|---|---|---|---|---|---|---|\n",
       "| 1 | 750-67-8428 | A | Yangon    | Member | Female | Health and beauty      | 74.69 | 7 | 26.1415 | 548.9715 | 01/05/2019 | 13:08 | Ewallet     | 522.83 | 4.761905 | 26.1415 | 9.1 |    NA | 0.1821588 |\n",
       "| 2 | 226-31-3081 | C | Naypyitaw | Normal | Female | Electronic accessories | 15.28 | 5 |  3.8200 |  80.2200 | 03/08/2019 | 10:29 | Cash        |  76.40 | 4.761905 |  3.8200 | 9.6 |    NA | 1.2465719 |\n",
       "| 3 | 631-41-3108 | A | Yangon    | Normal | Male   | Home and lifestyle     | 46.33 | 7 | 16.2155 | 340.5255 | 03/03/2019 | 13:23 | Credit card | 324.31 | 4.761905 | 16.2155 | 7.4 |    NA | 0.2936638 |\n",
       "| 4 | 123-19-1176 | A | Yangon    | Member | Male   | Health and beauty      | 58.22 | 8 | 23.2880 | 489.0480 | 1/27/2019  | 20:33 | Ewallet     | 465.76 | 4.761905 | 23.2880 | 8.4 |    NA | 0.2044789 |\n",
       "| 5 | 373-73-7910 | A | Yangon    | Normal | Male   | Sports and travel      | 86.31 | 7 | 30.2085 | 634.3785 | 02/08/2019 | 10:37 | Ewallet     | 604.17 | 4.761905 | 30.2085 | 5.3 | 99.96 | 0.1576346 |\n",
       "| 6 | 699-14-3026 | C | Naypyitaw | Normal | Male   | Electronic accessories | 85.39 | 7 | 29.8865 | 627.6165 | 3/25/2019  | 18:30 | Ewallet     | 597.73 | 4.761905 | 29.8865 | 4.1 |    NA | 0.1593330 |\n",
       "\n"
      ],
      "text/plain": [
       "  Invoice.ID  Branch City      Customer Gender Product               \n",
       "1 750-67-8428 A      Yangon    Member   Female Health and beauty     \n",
       "2 226-31-3081 C      Naypyitaw Normal   Female Electronic accessories\n",
       "3 631-41-3108 A      Yangon    Normal   Male   Home and lifestyle    \n",
       "4 123-19-1176 A      Yangon    Member   Male   Health and beauty     \n",
       "5 373-73-7910 A      Yangon    Normal   Male   Sports and travel     \n",
       "6 699-14-3026 C      Naypyitaw Normal   Male   Electronic accessories\n",
       "  Unit.price Quantity Tax.5.  Total    Date       Time  Payment     cogs  \n",
       "1 74.69      7        26.1415 548.9715 01/05/2019 13:08 Ewallet     522.83\n",
       "2 15.28      5         3.8200  80.2200 03/08/2019 10:29 Cash         76.40\n",
       "3 46.33      7        16.2155 340.5255 03/03/2019 13:23 Credit card 324.31\n",
       "4 58.22      8        23.2880 489.0480 1/27/2019  20:33 Ewallet     465.76\n",
       "5 86.31      7        30.2085 634.3785 02/08/2019 10:37 Ewallet     604.17\n",
       "6 85.39      7        29.8865 627.6165 3/25/2019  18:30 Ewallet     597.73\n",
       "  gross.margin gross.income Rating X     gross.percentage\n",
       "1 4.761905     26.1415      9.1       NA 0.1821588       \n",
       "2 4.761905      3.8200      9.6       NA 1.2465719       \n",
       "3 4.761905     16.2155      7.4       NA 0.2936638       \n",
       "4 4.761905     23.2880      8.4       NA 0.2044789       \n",
       "5 4.761905     30.2085      5.3    99.96 0.1576346       \n",
       "6 4.761905     29.8865      4.1       NA 0.1593330       "
      ]
     },
     "metadata": {},
     "output_type": "display_data"
    }
   ],
   "source": [
    "Supermarket['gross.percentage']=(Supermarket$`gross.margin`/Supermarket$`gross.income`)\n",
    "head(Supermarket)"
   ]
  },
  {
   "cell_type": "code",
   "execution_count": 24,
   "id": "adjustable-determination",
   "metadata": {},
   "outputs": [],
   "source": [
    "#To find the products ahving unit price above 80$."
   ]
  },
  {
   "cell_type": "code",
   "execution_count": 26,
   "id": "opened-holiday",
   "metadata": {},
   "outputs": [
    {
     "data": {
      "text/html": [
       "<table class=\"dataframe\">\n",
       "<caption>A data.frame: 6 × 2</caption>\n",
       "<thead>\n",
       "\t<tr><th></th><th scope=col>Product</th><th scope=col>Unit.price</th></tr>\n",
       "\t<tr><th></th><th scope=col>&lt;chr&gt;</th><th scope=col>&lt;dbl&gt;</th></tr>\n",
       "</thead>\n",
       "<tbody>\n",
       "\t<tr><th scope=row>1</th><td>Sports and travel     </td><td>86.31</td></tr>\n",
       "\t<tr><th scope=row>2</th><td>Electronic accessories</td><td>85.39</td></tr>\n",
       "\t<tr><th scope=row>3</th><td>Sports and travel     </td><td>93.72</td></tr>\n",
       "\t<tr><th scope=row>4</th><td>Electronic accessories</td><td>86.04</td></tr>\n",
       "\t<tr><th scope=row>5</th><td>Health and beauty     </td><td>87.98</td></tr>\n",
       "\t<tr><th scope=row>6</th><td>Sports and travel     </td><td>88.63</td></tr>\n",
       "</tbody>\n",
       "</table>\n"
      ],
      "text/latex": [
       "A data.frame: 6 × 2\n",
       "\\begin{tabular}{r|ll}\n",
       "  & Product & Unit.price\\\\\n",
       "  & <chr> & <dbl>\\\\\n",
       "\\hline\n",
       "\t1 & Sports and travel      & 86.31\\\\\n",
       "\t2 & Electronic accessories & 85.39\\\\\n",
       "\t3 & Sports and travel      & 93.72\\\\\n",
       "\t4 & Electronic accessories & 86.04\\\\\n",
       "\t5 & Health and beauty      & 87.98\\\\\n",
       "\t6 & Sports and travel      & 88.63\\\\\n",
       "\\end{tabular}\n"
      ],
      "text/markdown": [
       "\n",
       "A data.frame: 6 × 2\n",
       "\n",
       "| <!--/--> | Product &lt;chr&gt; | Unit.price &lt;dbl&gt; |\n",
       "|---|---|---|\n",
       "| 1 | Sports and travel      | 86.31 |\n",
       "| 2 | Electronic accessories | 85.39 |\n",
       "| 3 | Sports and travel      | 93.72 |\n",
       "| 4 | Electronic accessories | 86.04 |\n",
       "| 5 | Health and beauty      | 87.98 |\n",
       "| 6 | Sports and travel      | 88.63 |\n",
       "\n"
      ],
      "text/plain": [
       "  Product                Unit.price\n",
       "1 Sports and travel      86.31     \n",
       "2 Electronic accessories 85.39     \n",
       "3 Sports and travel      93.72     \n",
       "4 Electronic accessories 86.04     \n",
       "5 Health and beauty      87.98     \n",
       "6 Sports and travel      88.63     "
      ]
     },
     "metadata": {},
     "output_type": "display_data"
    }
   ],
   "source": [
    "head(Supermarket %>% select(Product,`Unit.price`) %>% filter(Supermarket$`Unit.price`>80))"
   ]
  },
  {
   "cell_type": "code",
   "execution_count": 37,
   "id": "rational-audience",
   "metadata": {},
   "outputs": [
    {
     "data": {
      "image/png": "[encoded data removed]",
      "text/plain": [
       "Plot with title \"Histogram of Supermarket$Unit.price\""
      ]
     },
     "metadata": {
      "image/png": {
       "height": 420,
       "width": 420
      }
     },
     "output_type": "display_data"
    }
   ],
   "source": [
    "hist(x=Supermarket$Unit.price,col='orange')"
   ]
  },
  {
   "cell_type": "code",
   "execution_count": null,
   "id": "backed-investment",
   "metadata": {},
   "outputs": [],
   "source": [
    "#To make a barplot showing total gross income of each city"
   ]
  },
  {
   "cell_type": "code",
   "execution_count": 40,
   "id": "damaged-press",
   "metadata": {},
   "outputs": [
    {
     "data": {
      "image/png": "[encoded data removed]",
      "text/plain": [
       "plot without title"
      ]
     },
     "metadata": {
      "image/png": {
       "height": 420,
       "width": 420
      }
     },
     "output_type": "display_data"
    }
   ],
   "source": [
    "ggplot(data=Supermarket, aes(x=City, y=gross.income,color=City)) +\n",
    "  geom_bar(stat='identity',fill='white',width=0.5)"
   ]
  },
  {
   "cell_type": "code",
   "execution_count": 75,
   "id": "pressing-asthma",
   "metadata": {},
   "outputs": [],
   "source": [
    "Data <- data.frame(Customer=c('Member','Normal'),value=c(501,499))"
   ]
  },
  {
   "cell_type": "code",
   "execution_count": 76,
   "id": "indie-quality",
   "metadata": {},
   "outputs": [
    {
     "data": {
      "image/png": "[encoded data removed]",
      "text/plain": [
       "plot without title"
      ]
     },
     "metadata": {
      "image/png": {
       "height": 420,
       "width": 420
      }
     },
     "output_type": "display_data"
    }
   ],
   "source": [
    "ggplot(data=Data, aes(x=\"\",y=value,fill=Customer)) +\n",
    "  geom_bar(stat=\"identity\", width=1) +\n",
    "  coord_polar(\"y\", start=0)"
   ]
  },
  {
   "cell_type": "code",
   "execution_count": null,
   "id": "neutral-checklist",
   "metadata": {},
   "outputs": [],
   "source": []
  }
 ],
 "metadata": {
  "kernelspec": {
   "display_name": "R",
   "language": "R",
   "name": "ir"
  },
  "language_info": {
   "codemirror_mode": "r",
   "file_extension": ".r",
   "mimetype": "text/x-r-source",
   "name": "R",
   "pygments_lexer": "r",
   "version": "4.0.3"
  }
 },
 "nbformat": 4,
 "nbformat_minor": 5
}
