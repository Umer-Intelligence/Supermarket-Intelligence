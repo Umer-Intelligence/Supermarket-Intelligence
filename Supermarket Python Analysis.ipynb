{
 "cells": [
  {
   "cell_type": "code",
   "execution_count": null,
   "id": "heavy-husband",
   "metadata": {},
   "outputs": [],
   "source": [
    "#In this file we are going to analyze and visualize the dataset called the 'supermarket' dataset . We will use three\n",
    "#different libraries to do this . For data analysis we are going to use pandas library while for data visualization\n",
    "# we are going to use matplotlib and sns."
   ]
  },
  {
   "cell_type": "code",
   "execution_count": null,
   "id": "executed-writing",
   "metadata": {},
   "outputs": [],
   "source": [
    "First we will load the respective libraries."
   ]
  },
  {
   "cell_type": "markdown",
   "id": "naked-television",
   "metadata": {},
   "source": [
    "# Loading libraries"
   ]
  },
  {
   "cell_type": "code",
   "execution_count": 1,
   "id": "cathedral-manchester",
   "metadata": {},
   "outputs": [],
   "source": [
    "import pandas as pd\n",
    "import matplotlib.pyplot as plt\n",
    "import seaborn as sns"
   ]
  },
  {
   "cell_type": "code",
   "execution_count": 4,
   "id": "presidential-wednesday",
   "metadata": {},
   "outputs": [],
   "source": [
    "#Then we will load the supermarket dataset using the pandas library"
   ]
  },
  {
   "cell_type": "markdown",
   "id": "swiss-space",
   "metadata": {},
   "source": [
    "# Loading dataset"
   ]
  },
  {
   "cell_type": "code",
   "execution_count": 2,
   "id": "robust-plasma",
   "metadata": {
    "scrolled": false
   },
   "outputs": [],
   "source": [
    "df = pd.read_csv('E:/Datasets/Supermarket.csv')"
   ]
  },
  {
   "cell_type": "code",
   "execution_count": null,
   "id": "boxed-shooting",
   "metadata": {},
   "outputs": [],
   "source": [
    "#Now we will apply some analysis to it."
   ]
  },
  {
   "cell_type": "markdown",
   "id": "serious-bidding",
   "metadata": {},
   "source": [
    "# Analysis"
   ]
  },
  {
   "cell_type": "code",
   "execution_count": 5,
   "id": "continuing-object",
   "metadata": {
    "scrolled": true
   },
   "outputs": [
    {
     "data": {
      "text/html": [
       "<div>\n",
       "<style scoped>\n",
       "    .dataframe tbody tr th:only-of-type {\n",
       "        vertical-align: middle;\n",
       "    }\n",
       "\n",
       "    .dataframe tbody tr th {\n",
       "        vertical-align: top;\n",
       "    }\n",
       "\n",
       "    .dataframe thead th {\n",
       "        text-align: right;\n",
       "    }\n",
       "</style>\n",
       "<table border=\"1\" class=\"dataframe\">\n",
       "  <thead>\n",
       "    <tr style=\"text-align: right;\">\n",
       "      <th></th>\n",
       "      <th>Invoice ID</th>\n",
       "      <th>Branch</th>\n",
       "      <th>City</th>\n",
       "      <th>Customer</th>\n",
       "      <th>Gender</th>\n",
       "      <th>Product</th>\n",
       "      <th>Unit price</th>\n",
       "      <th>Quantity</th>\n",
       "      <th>Tax 5%</th>\n",
       "      <th>Total</th>\n",
       "      <th>Date</th>\n",
       "      <th>Time</th>\n",
       "      <th>Payment</th>\n",
       "      <th>cogs</th>\n",
       "      <th>gross margin</th>\n",
       "      <th>gross income</th>\n",
       "      <th>Rating</th>\n",
       "      <th>Unnamed: 17</th>\n",
       "    </tr>\n",
       "  </thead>\n",
       "  <tbody>\n",
       "    <tr>\n",
       "      <th>0</th>\n",
       "      <td>750-67-8428</td>\n",
       "      <td>A</td>\n",
       "      <td>Yangon</td>\n",
       "      <td>Member</td>\n",
       "      <td>Female</td>\n",
       "      <td>Health and beauty</td>\n",
       "      <td>74.69</td>\n",
       "      <td>7</td>\n",
       "      <td>26.1415</td>\n",
       "      <td>548.9715</td>\n",
       "      <td>01/05/2019</td>\n",
       "      <td>13:08</td>\n",
       "      <td>Ewallet</td>\n",
       "      <td>522.83</td>\n",
       "      <td>4.761905</td>\n",
       "      <td>26.1415</td>\n",
       "      <td>9.1</td>\n",
       "      <td>NaN</td>\n",
       "    </tr>\n",
       "    <tr>\n",
       "      <th>1</th>\n",
       "      <td>226-31-3081</td>\n",
       "      <td>C</td>\n",
       "      <td>Naypyitaw</td>\n",
       "      <td>Normal</td>\n",
       "      <td>Female</td>\n",
       "      <td>Electronic accessories</td>\n",
       "      <td>15.28</td>\n",
       "      <td>5</td>\n",
       "      <td>3.8200</td>\n",
       "      <td>80.2200</td>\n",
       "      <td>03/08/2019</td>\n",
       "      <td>10:29</td>\n",
       "      <td>Cash</td>\n",
       "      <td>76.40</td>\n",
       "      <td>4.761905</td>\n",
       "      <td>3.8200</td>\n",
       "      <td>9.6</td>\n",
       "      <td>NaN</td>\n",
       "    </tr>\n",
       "    <tr>\n",
       "      <th>2</th>\n",
       "      <td>631-41-3108</td>\n",
       "      <td>A</td>\n",
       "      <td>Yangon</td>\n",
       "      <td>Normal</td>\n",
       "      <td>Male</td>\n",
       "      <td>Home and lifestyle</td>\n",
       "      <td>46.33</td>\n",
       "      <td>7</td>\n",
       "      <td>16.2155</td>\n",
       "      <td>340.5255</td>\n",
       "      <td>03/03/2019</td>\n",
       "      <td>13:23</td>\n",
       "      <td>Credit card</td>\n",
       "      <td>324.31</td>\n",
       "      <td>4.761905</td>\n",
       "      <td>16.2155</td>\n",
       "      <td>7.4</td>\n",
       "      <td>NaN</td>\n",
       "    </tr>\n",
       "    <tr>\n",
       "      <th>3</th>\n",
       "      <td>123-19-1176</td>\n",
       "      <td>A</td>\n",
       "      <td>Yangon</td>\n",
       "      <td>Member</td>\n",
       "      <td>Male</td>\n",
       "      <td>Health and beauty</td>\n",
       "      <td>58.22</td>\n",
       "      <td>8</td>\n",
       "      <td>23.2880</td>\n",
       "      <td>489.0480</td>\n",
       "      <td>1/27/2019</td>\n",
       "      <td>20:33</td>\n",
       "      <td>Ewallet</td>\n",
       "      <td>465.76</td>\n",
       "      <td>4.761905</td>\n",
       "      <td>23.2880</td>\n",
       "      <td>8.4</td>\n",
       "      <td>NaN</td>\n",
       "    </tr>\n",
       "    <tr>\n",
       "      <th>4</th>\n",
       "      <td>373-73-7910</td>\n",
       "      <td>A</td>\n",
       "      <td>Yangon</td>\n",
       "      <td>Normal</td>\n",
       "      <td>Male</td>\n",
       "      <td>Sports and travel</td>\n",
       "      <td>86.31</td>\n",
       "      <td>7</td>\n",
       "      <td>30.2085</td>\n",
       "      <td>634.3785</td>\n",
       "      <td>02/08/2019</td>\n",
       "      <td>10:37</td>\n",
       "      <td>Ewallet</td>\n",
       "      <td>604.17</td>\n",
       "      <td>4.761905</td>\n",
       "      <td>30.2085</td>\n",
       "      <td>5.3</td>\n",
       "      <td>99.96</td>\n",
       "    </tr>\n",
       "  </tbody>\n",
       "</table>\n",
       "</div>"
      ],
      "text/plain": [
       "    Invoice ID Branch       City Customer  Gender                 Product  \\\n",
       "0  750-67-8428      A     Yangon   Member  Female       Health and beauty   \n",
       "1  226-31-3081      C  Naypyitaw   Normal  Female  Electronic accessories   \n",
       "2  631-41-3108      A     Yangon   Normal    Male      Home and lifestyle   \n",
       "3  123-19-1176      A     Yangon   Member    Male       Health and beauty   \n",
       "4  373-73-7910      A     Yangon   Normal    Male       Sports and travel   \n",
       "\n",
       "   Unit price  Quantity   Tax 5%     Total        Date   Time      Payment  \\\n",
       "0       74.69         7  26.1415  548.9715  01/05/2019  13:08      Ewallet   \n",
       "1       15.28         5   3.8200   80.2200  03/08/2019  10:29         Cash   \n",
       "2       46.33         7  16.2155  340.5255  03/03/2019  13:23  Credit card   \n",
       "3       58.22         8  23.2880  489.0480   1/27/2019  20:33      Ewallet   \n",
       "4       86.31         7  30.2085  634.3785  02/08/2019  10:37      Ewallet   \n",
       "\n",
       "     cogs  gross margin  gross income  Rating  Unnamed: 17  \n",
       "0  522.83      4.761905       26.1415     9.1          NaN  \n",
       "1   76.40      4.761905        3.8200     9.6          NaN  \n",
       "2  324.31      4.761905       16.2155     7.4          NaN  \n",
       "3  465.76      4.761905       23.2880     8.4          NaN  \n",
       "4  604.17      4.761905       30.2085     5.3        99.96  "
      ]
     },
     "execution_count": 5,
     "metadata": {},
     "output_type": "execute_result"
    }
   ],
   "source": [
    "df.head()"
   ]
  },
  {
   "cell_type": "code",
   "execution_count": null,
   "id": "convinced-diploma",
   "metadata": {},
   "outputs": [],
   "source": [
    "#TO check the information about some specific invoice."
   ]
  },
  {
   "cell_type": "code",
   "execution_count": 7,
   "id": "comic-latin",
   "metadata": {},
   "outputs": [
    {
     "data": {
      "text/html": [
       "<div>\n",
       "<style scoped>\n",
       "    .dataframe tbody tr th:only-of-type {\n",
       "        vertical-align: middle;\n",
       "    }\n",
       "\n",
       "    .dataframe tbody tr th {\n",
       "        vertical-align: top;\n",
       "    }\n",
       "\n",
       "    .dataframe thead th {\n",
       "        text-align: right;\n",
       "    }\n",
       "</style>\n",
       "<table border=\"1\" class=\"dataframe\">\n",
       "  <thead>\n",
       "    <tr style=\"text-align: right;\">\n",
       "      <th></th>\n",
       "      <th>Invoice ID</th>\n",
       "      <th>Branch</th>\n",
       "      <th>City</th>\n",
       "      <th>Customer</th>\n",
       "      <th>Gender</th>\n",
       "      <th>Product</th>\n",
       "      <th>Unit price</th>\n",
       "      <th>Quantity</th>\n",
       "      <th>Tax 5%</th>\n",
       "      <th>Total</th>\n",
       "      <th>Date</th>\n",
       "      <th>Time</th>\n",
       "      <th>Payment</th>\n",
       "      <th>cogs</th>\n",
       "      <th>gross margin</th>\n",
       "      <th>gross income</th>\n",
       "      <th>Rating</th>\n",
       "    </tr>\n",
       "  </thead>\n",
       "  <tbody>\n",
       "    <tr>\n",
       "      <th>2</th>\n",
       "      <td>631-41-3108</td>\n",
       "      <td>A</td>\n",
       "      <td>Yangon</td>\n",
       "      <td>Normal</td>\n",
       "      <td>Male</td>\n",
       "      <td>Home and lifestyle</td>\n",
       "      <td>46.33</td>\n",
       "      <td>7</td>\n",
       "      <td>16.2155</td>\n",
       "      <td>340.5255</td>\n",
       "      <td>03/03/2019</td>\n",
       "      <td>13:23</td>\n",
       "      <td>Credit card</td>\n",
       "      <td>324.31</td>\n",
       "      <td>4.761905</td>\n",
       "      <td>16.2155</td>\n",
       "      <td>7.4</td>\n",
       "    </tr>\n",
       "  </tbody>\n",
       "</table>\n",
       "</div>"
      ],
      "text/plain": [
       "    Invoice ID Branch    City Customer Gender            Product   Unit price  \\\n",
       "2  631-41-3108      A  Yangon   Normal   Male  Home and lifestyle       46.33   \n",
       "\n",
       "   Quantity   Tax 5%     Total        Date   Time      Payment    cogs  \\\n",
       "2         7  16.2155  340.5255  03/03/2019  13:23  Credit card  324.31   \n",
       "\n",
       "   gross margin  gross income  Rating  \n",
       "2      4.761905       16.2155     7.4  "
      ]
     },
     "execution_count": 7,
     "metadata": {},
     "output_type": "execute_result"
    }
   ],
   "source": [
    "getInvoiceData = df[df['Invoice ID']=='631-41-3108']\n",
    "getInvoiceData"
   ]
  },
  {
   "cell_type": "code",
   "execution_count": null,
   "id": "specified-license",
   "metadata": {},
   "outputs": [],
   "source": [
    "#To check which city branch generated the highest gross income"
   ]
  },
  {
   "cell_type": "code",
   "execution_count": 15,
   "id": "accessory-terror",
   "metadata": {},
   "outputs": [
    {
     "name": "stdout",
     "output_type": "stream",
     "text": [
      "          City  gross income\n",
      "350  Naypyitaw         49.65\n"
     ]
    }
   ],
   "source": [
    "print(df[['City','gross income']][df['gross income']==max(df['gross income'])])"
   ]
  },
  {
   "cell_type": "code",
   "execution_count": null,
   "id": "great-boating",
   "metadata": {},
   "outputs": [],
   "source": [
    "#To check which type of payment is used the most"
   ]
  },
  {
   "cell_type": "code",
   "execution_count": 28,
   "id": "czech-truck",
   "metadata": {},
   "outputs": [
    {
     "data": {
      "text/plain": [
       "Payment\n",
       "Cash           344\n",
       "Credit card    311\n",
       "Ewallet        345\n",
       "Name: Payment, dtype: int64"
      ]
     },
     "execution_count": 28,
     "metadata": {},
     "output_type": "execute_result"
    }
   ],
   "source": [
    "df.groupby('Payment')['Payment'].count()"
   ]
  },
  {
   "cell_type": "code",
   "execution_count": null,
   "id": "becoming-graph",
   "metadata": {},
   "outputs": [],
   "source": [
    "#To check which city has the most sales"
   ]
  },
  {
   "cell_type": "code",
   "execution_count": 33,
   "id": "eight-motion",
   "metadata": {
    "scrolled": true
   },
   "outputs": [
    {
     "data": {
      "text/plain": [
       "City\n",
       "Mandalay     332\n",
       "Naypyitaw    328\n",
       "Yangon       340\n",
       "Name: City, dtype: int64"
      ]
     },
     "execution_count": 33,
     "metadata": {},
     "output_type": "execute_result"
    }
   ],
   "source": [
    "df.groupby('City')['City'].count()"
   ]
  },
  {
   "cell_type": "code",
   "execution_count": null,
   "id": "underlying-involvement",
   "metadata": {},
   "outputs": [],
   "source": [
    "#To check which branch has the most sales"
   ]
  },
  {
   "cell_type": "code",
   "execution_count": 35,
   "id": "exact-graduate",
   "metadata": {
    "scrolled": true
   },
   "outputs": [
    {
     "data": {
      "text/plain": [
       "Branch\n",
       "A    340\n",
       "B    332\n",
       "C    328\n",
       "Name: Branch, dtype: int64"
      ]
     },
     "execution_count": 35,
     "metadata": {},
     "output_type": "execute_result"
    }
   ],
   "source": [
    "df.groupby('Branch')['Branch'].count()"
   ]
  },
  {
   "cell_type": "code",
   "execution_count": null,
   "id": "exempt-extreme",
   "metadata": {},
   "outputs": [],
   "source": [
    "#To find the invoice ID of the highest sale"
   ]
  },
  {
   "cell_type": "code",
   "execution_count": 43,
   "id": "diagnostic-chair",
   "metadata": {},
   "outputs": [
    {
     "name": "stdout",
     "output_type": "stream",
     "text": [
      "      Invoice ID  Unit price\n",
      "122  219-22-9386       99.96\n",
      "983  148-41-7930       99.96\n"
     ]
    }
   ],
   "source": [
    "print(df[['Invoice ID','Unit price']][df['Unit price']==max(df['Unit price'])])"
   ]
  },
  {
   "cell_type": "code",
   "execution_count": null,
   "id": "organizational-calculation",
   "metadata": {},
   "outputs": [],
   "source": [
    "#To find the date at which highest sale was made"
   ]
  },
  {
   "cell_type": "code",
   "execution_count": 4,
   "id": "heard-swedish",
   "metadata": {
    "scrolled": true
   },
   "outputs": [
    {
     "name": "stdout",
     "output_type": "stream",
     "text": [
      "           Date  Unit price\n",
      "122  03/09/2019       99.96\n",
      "983   1/23/2019       99.96\n"
     ]
    }
   ],
   "source": [
    "print(df[['Date','Unit price']][df['Unit price']==max(df['Unit price'])])"
   ]
  },
  {
   "cell_type": "code",
   "execution_count": null,
   "id": "broad-court",
   "metadata": {},
   "outputs": [],
   "source": [
    "TO find the number of members and customers"
   ]
  },
  {
   "cell_type": "code",
   "execution_count": 6,
   "id": "deluxe-nature",
   "metadata": {
    "scrolled": false
   },
   "outputs": [
    {
     "data": {
      "text/plain": [
       "Customer\n",
       "Member    501\n",
       "Normal    499\n",
       "Name: Customer, dtype: int64"
      ]
     },
     "execution_count": 6,
     "metadata": {},
     "output_type": "execute_result"
    }
   ],
   "source": [
    "df.groupby('Customer')['Customer'].count()"
   ]
  },
  {
   "cell_type": "code",
   "execution_count": null,
   "id": "british-friday",
   "metadata": {},
   "outputs": [],
   "source": [
    "#To find the total gross income of each city"
   ]
  },
  {
   "cell_type": "code",
   "execution_count": 10,
   "id": "composed-bouquet",
   "metadata": {},
   "outputs": [
    {
     "data": {
      "text/plain": [
       "City\n",
       "Mandalay     5057.0320\n",
       "Naypyitaw    5265.1765\n",
       "Yangon       5057.1605\n",
       "Name: gross income, dtype: float64"
      ]
     },
     "execution_count": 10,
     "metadata": {},
     "output_type": "execute_result"
    }
   ],
   "source": [
    "df.groupby('City')['gross income'].sum()"
   ]
  },
  {
   "cell_type": "markdown",
   "id": "freelance-aside",
   "metadata": {},
   "source": [
    "# Visualizing Data\n"
   ]
  },
  {
   "cell_type": "code",
   "execution_count": null,
   "id": "annual-german",
   "metadata": {},
   "outputs": [],
   "source": [
    "#To find which city has the most sales"
   ]
  },
  {
   "cell_type": "code",
   "execution_count": 32,
   "id": "ongoing-diary",
   "metadata": {},
   "outputs": [
    {
     "data": {
      "image/png": "[encoded data removed]",
      "text/plain": [
       "<Figure size 432x288 with 1 Axes>"
      ]
     },
     "metadata": {},
     "output_type": "display_data"
    }
   ],
   "source": [
    "sns.set_theme(style='dark')\n",
    "sns.countplot(x='City',data=df,color='yellow')\n",
    "plt.title('City wise sales',size=20)\n",
    "plt.grid()\n",
    "plt.show()"
   ]
  },
  {
   "cell_type": "code",
   "execution_count": null,
   "id": "musical-physics",
   "metadata": {},
   "outputs": [],
   "source": [
    "#To check which city has the most gross income"
   ]
  },
  {
   "cell_type": "code",
   "execution_count": null,
   "id": "legendary-sector",
   "metadata": {},
   "outputs": [],
   "source": []
  },
  {
   "cell_type": "code",
   "execution_count": 77,
   "id": "excited-contents",
   "metadata": {
    "scrolled": true
   },
   "outputs": [
    {
     "data": {
      "image/png": "[encoded data removed]",
      "text/plain": [
       "<Figure size 432x288 with 1 Axes>"
      ]
     },
     "metadata": {},
     "output_type": "display_data"
    }
   ],
   "source": [
    "sns.barplot(x='City',y='gross income',data=df)\n",
    "plt.title('City wise gross income',size=20)\n",
    "plt.show()"
   ]
  },
  {
   "cell_type": "code",
   "execution_count": 20,
   "id": "remarkable-casting",
   "metadata": {},
   "outputs": [
    {
     "data": {
      "image/png": "[encoded data removed]",
      "text/plain": [
       "<Figure size 432x288 with 1 Axes>"
      ]
     },
     "metadata": {
      "needs_background": "light"
     },
     "output_type": "display_data"
    }
   ],
   "source": [
    "\n",
    "sns.lineplot(x='City',y='Rating',data=df,color='blue')\n",
    "plt.title('City wise Ratings',size=20)\n",
    "plt.show()"
   ]
  },
  {
   "cell_type": "code",
   "execution_count": null,
   "id": "infrared-cross",
   "metadata": {},
   "outputs": [],
   "source": [
    "#To check which payment method is used the most"
   ]
  },
  {
   "cell_type": "code",
   "execution_count": 55,
   "id": "relative-disco",
   "metadata": {},
   "outputs": [
    {
     "data": {
      "text/plain": [
       "Text(0.5, 1.0, 'Comparison of payments')"
      ]
     },
     "execution_count": 55,
     "metadata": {},
     "output_type": "execute_result"
    },
    {
     "data": {
      "image/png": "[encoded data removed]",
      "text/plain": [
       "<Figure size 432x288 with 1 Axes>"
      ]
     },
     "metadata": {},
     "output_type": "display_data"
    }
   ],
   "source": [
    "c=df.groupby('Payment')['Payment'].count()\n",
    "c.plot.pie(autopct=\"%.1f%%\")\n",
    "plt.title('Comparison of payments',size=20)\n"
   ]
  },
  {
   "cell_type": "code",
   "execution_count": null,
   "id": "aboriginal-termination",
   "metadata": {},
   "outputs": [],
   "source": [
    "#To find which product has the most demand"
   ]
  },
  {
   "cell_type": "code",
   "execution_count": 61,
   "id": "national-ministry",
   "metadata": {},
   "outputs": [
    {
     "data": {
      "text/plain": [
       "Text(0.5, 1.0, 'Product Comparison')"
      ]
     },
     "execution_count": 61,
     "metadata": {},
     "output_type": "execute_result"
    },
    {
     "data": {
      "image/png": "[encoded data removed]",
      "text/plain": [
       "<Figure size 432x288 with 1 Axes>"
      ]
     },
     "metadata": {},
     "output_type": "display_data"
    }
   ],
   "source": [
    "a=df.groupby('Product ')['Product '].count()\n",
    "a.plot.pie(autopct=\"%.1f%%\")\n",
    "plt.title('Product Comparison',size=15)"
   ]
  },
  {
   "cell_type": "code",
   "execution_count": null,
   "id": "weekly-principal",
   "metadata": {},
   "outputs": [],
   "source": [
    "#To find the comparison between the prices of different products"
   ]
  },
  {
   "cell_type": "code",
   "execution_count": 4,
   "id": "fitting-foundation",
   "metadata": {},
   "outputs": [
    {
     "data": {
      "text/plain": [
       "Product\n",
       "Electronic accessories    53.551588\n",
       "Fashion accessories       57.153652\n",
       "Food and beverages        56.008851\n",
       "Health and beauty         54.854474\n",
       "Home and lifestyle        55.316937\n",
       "Sports and travel         56.993253\n",
       "Name: Unit price, dtype: float64"
      ]
     },
     "execution_count": 4,
     "metadata": {},
     "output_type": "execute_result"
    }
   ],
   "source": [
    "df.groupby('Product')['Unit price'].mean()"
   ]
  },
  {
   "cell_type": "code",
   "execution_count": 63,
   "id": "unable-poultry",
   "metadata": {},
   "outputs": [
    {
     "data": {
      "image/png": "[encoded data removed]",
      "text/plain": [
       "<Figure size 432x288 with 1 Axes>"
      ]
     },
     "metadata": {},
     "output_type": "display_data"
    }
   ],
   "source": [
    "sns.barplot(x='Product ',y='Unit price',data=df)\n",
    "plt.xticks(rotation='vertical')\n",
    "plt.title('Price wise comparison')\n",
    "plt.show()"
   ]
  },
  {
   "cell_type": "code",
   "execution_count": null,
   "id": "fancy-filename",
   "metadata": {},
   "outputs": [],
   "source": []
  }
 ],
 "metadata": {
  "kernelspec": {
   "display_name": "Python 3",
   "language": "python",
   "name": "python3"
  },
  "language_info": {
   "codemirror_mode": {
    "name": "ipython",
    "version": 3
   },
   "file_extension": ".py",
   "mimetype": "text/x-python",
   "name": "python",
   "nbconvert_exporter": "python",
   "pygments_lexer": "ipython3",
   "version": "3.6.1"
  }
 },
 "nbformat": 4,
 "nbformat_minor": 5
}
