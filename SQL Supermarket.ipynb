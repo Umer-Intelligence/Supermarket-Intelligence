{
 "cells": [
  {
   "cell_type": "markdown",
   "id": "complex-facing",
   "metadata": {},
   "source": [
    "# In this file we are going to analyse data using SQL . The reason I am doing it through Jupyter notebook is beacause it can store the queries as well as their results which is not avaialable in any of the sql applications"
   ]
  },
  {
   "cell_type": "markdown",
   "id": "foster-livestock",
   "metadata": {},
   "source": [
    "# Necessary procedures to load SQL database."
   ]
  },
  {
   "cell_type": "code",
   "execution_count": 1,
   "id": "polar-latest",
   "metadata": {},
   "outputs": [],
   "source": [
    "%load_ext sql"
   ]
  },
  {
   "cell_type": "code",
   "execution_count": 6,
   "id": "spiritual-corpus",
   "metadata": {},
   "outputs": [],
   "source": [
    "%sql sqlite:///Supermarket.sqlite3"
   ]
  },
  {
   "cell_type": "markdown",
   "id": "vertical-elevation",
   "metadata": {},
   "source": [
    "# Analysing Supermarket dataset"
   ]
  },
  {
   "cell_type": "code",
   "execution_count": 38,
   "id": "induced-stroke",
   "metadata": {},
   "outputs": [],
   "source": [
    "#Presenting the dataset"
   ]
  },
  {
   "cell_type": "code",
   "execution_count": 7,
   "id": "threaded-rouge",
   "metadata": {
    "scrolled": true
   },
   "outputs": [
    {
     "name": "stdout",
     "output_type": "stream",
     "text": [
      " * sqlite:///Supermarket.sqlite3\n",
      "Done.\n"
     ]
    },
    {
     "data": {
      "text/html": [
       "<table>\n",
       "    <tr>\n",
       "        <th>InvoiceID</th>\n",
       "        <th>Branch</th>\n",
       "        <th>City</th>\n",
       "        <th>Customer</th>\n",
       "        <th>Gender</th>\n",
       "        <th>Product</th>\n",
       "        <th>Unitprice</th>\n",
       "        <th>Quantity</th>\n",
       "        <th>Tax5%</th>\n",
       "        <th>Total</th>\n",
       "        <th>Date</th>\n",
       "        <th>Time</th>\n",
       "        <th>Payment</th>\n",
       "        <th>cogs</th>\n",
       "        <th>grossmargin</th>\n",
       "        <th>grossincome</th>\n",
       "        <th>Rating</th>\n",
       "        <th>field18</th>\n",
       "    </tr>\n",
       "    <tr>\n",
       "        <td>750-67-8428</td>\n",
       "        <td>A</td>\n",
       "        <td>Yangon</td>\n",
       "        <td>Member</td>\n",
       "        <td>Female</td>\n",
       "        <td>Health and beauty</td>\n",
       "        <td>74.69</td>\n",
       "        <td>7</td>\n",
       "        <td>26.1415</td>\n",
       "        <td>548.9715</td>\n",
       "        <td>01/05/2019</td>\n",
       "        <td>13:08</td>\n",
       "        <td>Ewallet</td>\n",
       "        <td>522.83</td>\n",
       "        <td>4.761904762</td>\n",
       "        <td>26.1415</td>\n",
       "        <td>9.1</td>\n",
       "        <td>None</td>\n",
       "    </tr>\n",
       "    <tr>\n",
       "        <td>226-31-3081</td>\n",
       "        <td>C</td>\n",
       "        <td>Naypyitaw</td>\n",
       "        <td>Normal</td>\n",
       "        <td>Female</td>\n",
       "        <td>Electronic accessories</td>\n",
       "        <td>15.28</td>\n",
       "        <td>5</td>\n",
       "        <td>3.82</td>\n",
       "        <td>80.22</td>\n",
       "        <td>03/08/2019</td>\n",
       "        <td>10:29</td>\n",
       "        <td>Cash</td>\n",
       "        <td>76.4</td>\n",
       "        <td>4.761904762</td>\n",
       "        <td>3.82</td>\n",
       "        <td>9.6</td>\n",
       "        <td>None</td>\n",
       "    </tr>\n",
       "    <tr>\n",
       "        <td>631-41-3108</td>\n",
       "        <td>A</td>\n",
       "        <td>Yangon</td>\n",
       "        <td>Normal</td>\n",
       "        <td>Male</td>\n",
       "        <td>Home and lifestyle</td>\n",
       "        <td>46.33</td>\n",
       "        <td>7</td>\n",
       "        <td>16.2155</td>\n",
       "        <td>340.5255</td>\n",
       "        <td>03/03/2019</td>\n",
       "        <td>13:23</td>\n",
       "        <td>Credit card</td>\n",
       "        <td>324.31</td>\n",
       "        <td>4.761904762</td>\n",
       "        <td>16.2155</td>\n",
       "        <td>7.4</td>\n",
       "        <td>None</td>\n",
       "    </tr>\n",
       "    <tr>\n",
       "        <td>123-19-1176</td>\n",
       "        <td>A</td>\n",
       "        <td>Yangon</td>\n",
       "        <td>Member</td>\n",
       "        <td>Male</td>\n",
       "        <td>Health and beauty</td>\n",
       "        <td>58.22</td>\n",
       "        <td>8</td>\n",
       "        <td>23.288</td>\n",
       "        <td>489.048</td>\n",
       "        <td>1/27/2019</td>\n",
       "        <td>20:33</td>\n",
       "        <td>Ewallet</td>\n",
       "        <td>465.76</td>\n",
       "        <td>4.761904762</td>\n",
       "        <td>23.288</td>\n",
       "        <td>8.4</td>\n",
       "        <td>None</td>\n",
       "    </tr>\n",
       "    <tr>\n",
       "        <td>373-73-7910</td>\n",
       "        <td>A</td>\n",
       "        <td>Yangon</td>\n",
       "        <td>Normal</td>\n",
       "        <td>Male</td>\n",
       "        <td>Sports and travel</td>\n",
       "        <td>86.31</td>\n",
       "        <td>7</td>\n",
       "        <td>30.2085</td>\n",
       "        <td>634.3785</td>\n",
       "        <td>02/08/2019</td>\n",
       "        <td>10:37</td>\n",
       "        <td>Ewallet</td>\n",
       "        <td>604.17</td>\n",
       "        <td>4.761904762</td>\n",
       "        <td>30.2085</td>\n",
       "        <td>5.3</td>\n",
       "        <td>99.96</td>\n",
       "    </tr>\n",
       "    <tr>\n",
       "        <td>699-14-3026</td>\n",
       "        <td>C</td>\n",
       "        <td>Naypyitaw</td>\n",
       "        <td>Normal</td>\n",
       "        <td>Male</td>\n",
       "        <td>Electronic accessories</td>\n",
       "        <td>85.39</td>\n",
       "        <td>7</td>\n",
       "        <td>29.8865</td>\n",
       "        <td>627.6165</td>\n",
       "        <td>3/25/2019</td>\n",
       "        <td>18:30</td>\n",
       "        <td>Ewallet</td>\n",
       "        <td>597.73</td>\n",
       "        <td>4.761904762</td>\n",
       "        <td>29.8865</td>\n",
       "        <td>4.1</td>\n",
       "        <td>None</td>\n",
       "    </tr>\n",
       "    <tr>\n",
       "        <td>355-53-5943</td>\n",
       "        <td>A</td>\n",
       "        <td>Yangon</td>\n",
       "        <td>Member</td>\n",
       "        <td>Female</td>\n",
       "        <td>Electronic accessories</td>\n",
       "        <td>68.84</td>\n",
       "        <td>6</td>\n",
       "        <td>20.652</td>\n",
       "        <td>433.692</td>\n",
       "        <td>2/25/2019</td>\n",
       "        <td>14:36</td>\n",
       "        <td>Ewallet</td>\n",
       "        <td>413.04</td>\n",
       "        <td>4.761904762</td>\n",
       "        <td>20.652</td>\n",
       "        <td>5.8</td>\n",
       "        <td>None</td>\n",
       "    </tr>\n",
       "    <tr>\n",
       "        <td>315-22-5665</td>\n",
       "        <td>C</td>\n",
       "        <td>Naypyitaw</td>\n",
       "        <td>Normal</td>\n",
       "        <td>Female</td>\n",
       "        <td>Home and lifestyle</td>\n",
       "        <td>73.56</td>\n",
       "        <td>10</td>\n",
       "        <td>36.78</td>\n",
       "        <td>772.38</td>\n",
       "        <td>2/24/2019</td>\n",
       "        <td>11:38</td>\n",
       "        <td>Ewallet</td>\n",
       "        <td>735.6</td>\n",
       "        <td>4.761904762</td>\n",
       "        <td>36.78</td>\n",
       "        <td>8.0</td>\n",
       "        <td>None</td>\n",
       "    </tr>\n",
       "    <tr>\n",
       "        <td>665-32-9167</td>\n",
       "        <td>A</td>\n",
       "        <td>Yangon</td>\n",
       "        <td>Member</td>\n",
       "        <td>Female</td>\n",
       "        <td>Health and beauty</td>\n",
       "        <td>36.26</td>\n",
       "        <td>2</td>\n",
       "        <td>3.626</td>\n",
       "        <td>76.146</td>\n",
       "        <td>01/10/2019</td>\n",
       "        <td>17:15</td>\n",
       "        <td>Credit card</td>\n",
       "        <td>72.52</td>\n",
       "        <td>4.761904762</td>\n",
       "        <td>3.626</td>\n",
       "        <td>7.2</td>\n",
       "        <td>None</td>\n",
       "    </tr>\n",
       "    <tr>\n",
       "        <td>692-92-5582</td>\n",
       "        <td>B</td>\n",
       "        <td>Mandalay</td>\n",
       "        <td>Member</td>\n",
       "        <td>Female</td>\n",
       "        <td>Food and beverages</td>\n",
       "        <td>54.84</td>\n",
       "        <td>3</td>\n",
       "        <td>8.226</td>\n",
       "        <td>172.746</td>\n",
       "        <td>2/20/2019</td>\n",
       "        <td>13:27</td>\n",
       "        <td>Credit card</td>\n",
       "        <td>164.52</td>\n",
       "        <td>4.761904762</td>\n",
       "        <td>8.226</td>\n",
       "        <td>5.9</td>\n",
       "        <td>None</td>\n",
       "    </tr>\n",
       "</table>"
      ],
      "text/plain": [
       "[('750-67-8428', 'A', 'Yangon', 'Member', 'Female', 'Health and beauty', 74.69, 7, 26.1415, 548.9715, '01/05/2019', '13:08', 'Ewallet', 522.83, 4.761904762, 26.1415, 9.1, None),\n",
       " ('226-31-3081', 'C', 'Naypyitaw', 'Normal', 'Female', 'Electronic accessories', 15.28, 5, 3.82, 80.22, '03/08/2019', '10:29', 'Cash', 76.4, 4.761904762, 3.82, 9.6, None),\n",
       " ('631-41-3108', 'A', 'Yangon', 'Normal', 'Male', 'Home and lifestyle', 46.33, 7, 16.2155, 340.5255, '03/03/2019', '13:23', 'Credit card', 324.31, 4.761904762, 16.2155, 7.4, None),\n",
       " ('123-19-1176', 'A', 'Yangon', 'Member', 'Male', 'Health and beauty', 58.22, 8, 23.288, 489.048, '1/27/2019', '20:33', 'Ewallet', 465.76, 4.761904762, 23.288, 8.4, None),\n",
       " ('373-73-7910', 'A', 'Yangon', 'Normal', 'Male', 'Sports and travel', 86.31, 7, 30.2085, 634.3785, '02/08/2019', '10:37', 'Ewallet', 604.17, 4.761904762, 30.2085, 5.3, '99.96'),\n",
       " ('699-14-3026', 'C', 'Naypyitaw', 'Normal', 'Male', 'Electronic accessories', 85.39, 7, 29.8865, 627.6165, '3/25/2019', '18:30', 'Ewallet', 597.73, 4.761904762, 29.8865, 4.1, None),\n",
       " ('355-53-5943', 'A', 'Yangon', 'Member', 'Female', 'Electronic accessories', 68.84, 6, 20.652, 433.692, '2/25/2019', '14:36', 'Ewallet', 413.04, 4.761904762, 20.652, 5.8, None),\n",
       " ('315-22-5665', 'C', 'Naypyitaw', 'Normal', 'Female', 'Home and lifestyle', 73.56, 10, 36.78, 772.38, '2/24/2019', '11:38', 'Ewallet', 735.6, 4.761904762, 36.78, 8.0, None),\n",
       " ('665-32-9167', 'A', 'Yangon', 'Member', 'Female', 'Health and beauty', 36.26, 2, 3.626, 76.146, '01/10/2019', '17:15', 'Credit card', 72.52, 4.761904762, 3.626, 7.2, None),\n",
       " ('692-92-5582', 'B', 'Mandalay', 'Member', 'Female', 'Food and beverages', 54.84, 3, 8.226, 172.746, '2/20/2019', '13:27', 'Credit card', 164.52, 4.761904762, 8.226, 5.9, None)]"
      ]
     },
     "execution_count": 7,
     "metadata": {},
     "output_type": "execute_result"
    }
   ],
   "source": [
    "%sql SELECT * FROM supermarket limit(10)"
   ]
  },
  {
   "cell_type": "code",
   "execution_count": null,
   "id": "incorporate-island",
   "metadata": {},
   "outputs": [],
   "source": [
    "#To find the date at which highest gross income was generated"
   ]
  },
  {
   "cell_type": "code",
   "execution_count": 9,
   "id": "everyday-disability",
   "metadata": {
    "scrolled": true
   },
   "outputs": [
    {
     "name": "stdout",
     "output_type": "stream",
     "text": [
      " * sqlite:///Supermarket.sqlite3\n",
      "Done.\n"
     ]
    },
    {
     "data": {
      "text/html": [
       "<table>\n",
       "    <tr>\n",
       "        <th>Date</th>\n",
       "        <th>max(grossincome)</th>\n",
       "    </tr>\n",
       "    <tr>\n",
       "        <td>2/15/2019</td>\n",
       "        <td>49.65</td>\n",
       "    </tr>\n",
       "</table>"
      ],
      "text/plain": [
       "[('2/15/2019', 49.65)]"
      ]
     },
     "execution_count": 9,
     "metadata": {},
     "output_type": "execute_result"
    }
   ],
   "source": [
    "%sql select date,max(grossincome) from supermarket"
   ]
  },
  {
   "cell_type": "code",
   "execution_count": null,
   "id": "expanded-somerset",
   "metadata": {},
   "outputs": [],
   "source": [
    "#To find the product having maximum unit price"
   ]
  },
  {
   "cell_type": "code",
   "execution_count": 10,
   "id": "eleven-attempt",
   "metadata": {
    "scrolled": true
   },
   "outputs": [
    {
     "name": "stdout",
     "output_type": "stream",
     "text": [
      " * sqlite:///Supermarket.sqlite3\n",
      "Done.\n"
     ]
    },
    {
     "data": {
      "text/html": [
       "<table>\n",
       "    <tr>\n",
       "        <th>Product</th>\n",
       "        <th>max(unitprice)</th>\n",
       "    </tr>\n",
       "    <tr>\n",
       "        <td>Sports and travel</td>\n",
       "        <td>99.96</td>\n",
       "    </tr>\n",
       "</table>"
      ],
      "text/plain": [
       "[('Sports and travel', 99.96)]"
      ]
     },
     "execution_count": 10,
     "metadata": {},
     "output_type": "execute_result"
    }
   ],
   "source": [
    "%sql select product,max(unitprice) from supermarket"
   ]
  },
  {
   "cell_type": "code",
   "execution_count": null,
   "id": "french-confidence",
   "metadata": {},
   "outputs": [],
   "source": [
    "#To find the number of transactions in each city"
   ]
  },
  {
   "cell_type": "code",
   "execution_count": 39,
   "id": "valuable-adrian",
   "metadata": {
    "scrolled": true
   },
   "outputs": [
    {
     "name": "stdout",
     "output_type": "stream",
     "text": [
      " * sqlite:///Supermarket.sqlite3\n",
      "Done.\n"
     ]
    },
    {
     "data": {
      "text/html": [
       "<table>\n",
       "    <tr>\n",
       "        <th>City</th>\n",
       "        <th>number</th>\n",
       "    </tr>\n",
       "    <tr>\n",
       "        <td>Mandalay</td>\n",
       "        <td>332</td>\n",
       "    </tr>\n",
       "    <tr>\n",
       "        <td>Naypyitaw</td>\n",
       "        <td>328</td>\n",
       "    </tr>\n",
       "    <tr>\n",
       "        <td>Yangon</td>\n",
       "        <td>340</td>\n",
       "    </tr>\n",
       "</table>"
      ],
      "text/plain": [
       "[('Mandalay', 332), ('Naypyitaw', 328), ('Yangon', 340)]"
      ]
     },
     "execution_count": 39,
     "metadata": {},
     "output_type": "execute_result"
    }
   ],
   "source": [
    "%sql select city,count(City) as number from supermarket group by city "
   ]
  },
  {
   "cell_type": "code",
   "execution_count": null,
   "id": "visible-ranking",
   "metadata": {},
   "outputs": [],
   "source": [
    "#To find the comaprison of customers"
   ]
  },
  {
   "cell_type": "code",
   "execution_count": 26,
   "id": "gentle-sunday",
   "metadata": {
    "scrolled": true
   },
   "outputs": [
    {
     "name": "stdout",
     "output_type": "stream",
     "text": [
      " * sqlite:///Supermarket.sqlite3\n",
      "Done.\n"
     ]
    },
    {
     "data": {
      "text/html": [
       "<table>\n",
       "    <tr>\n",
       "        <th>Customer</th>\n",
       "        <th>Number</th>\n",
       "    </tr>\n",
       "    <tr>\n",
       "        <td>Member</td>\n",
       "        <td>501</td>\n",
       "    </tr>\n",
       "    <tr>\n",
       "        <td>Normal</td>\n",
       "        <td>499</td>\n",
       "    </tr>\n",
       "</table>"
      ],
      "text/plain": [
       "[('Member', 501), ('Normal', 499)]"
      ]
     },
     "execution_count": 26,
     "metadata": {},
     "output_type": "execute_result"
    }
   ],
   "source": [
    "%sql select customer,count(customer) as Number from supermarket group by customer"
   ]
  },
  {
   "cell_type": "code",
   "execution_count": null,
   "id": "tutorial-shape",
   "metadata": {},
   "outputs": [],
   "source": [
    "#To find the comparison of gender"
   ]
  },
  {
   "cell_type": "code",
   "execution_count": 25,
   "id": "included-begin",
   "metadata": {
    "scrolled": true
   },
   "outputs": [
    {
     "name": "stdout",
     "output_type": "stream",
     "text": [
      " * sqlite:///Supermarket.sqlite3\n",
      "Done.\n"
     ]
    },
    {
     "data": {
      "text/html": [
       "<table>\n",
       "    <tr>\n",
       "        <th>Gender</th>\n",
       "        <th>Number</th>\n",
       "    </tr>\n",
       "    <tr>\n",
       "        <td>Female</td>\n",
       "        <td>501</td>\n",
       "    </tr>\n",
       "    <tr>\n",
       "        <td>Male</td>\n",
       "        <td>499</td>\n",
       "    </tr>\n",
       "</table>"
      ],
      "text/plain": [
       "[('Female', 501), ('Male', 499)]"
      ]
     },
     "execution_count": 25,
     "metadata": {},
     "output_type": "execute_result"
    }
   ],
   "source": [
    "%sql select gender,count(gender) as Number from supermarket group by gender"
   ]
  },
  {
   "cell_type": "code",
   "execution_count": null,
   "id": "public-fireplace",
   "metadata": {},
   "outputs": [],
   "source": [
    "#To find the product having highest unit price."
   ]
  },
  {
   "cell_type": "code",
   "execution_count": 28,
   "id": "first-anderson",
   "metadata": {
    "scrolled": true
   },
   "outputs": [
    {
     "name": "stdout",
     "output_type": "stream",
     "text": [
      " * sqlite:///Supermarket.sqlite3\n",
      "Done.\n"
     ]
    },
    {
     "data": {
      "text/html": [
       "<table>\n",
       "    <tr>\n",
       "        <th>Product</th>\n",
       "        <th>Highest_quantity_sold</th>\n",
       "    </tr>\n",
       "    <tr>\n",
       "        <td>Home and lifestyle</td>\n",
       "        <td>10</td>\n",
       "    </tr>\n",
       "</table>"
      ],
      "text/plain": [
       "[('Home and lifestyle', 10)]"
      ]
     },
     "execution_count": 28,
     "metadata": {},
     "output_type": "execute_result"
    }
   ],
   "source": [
    "%sql select product,max(quantity) as Highest_quantity_sold from supermarket"
   ]
  },
  {
   "cell_type": "code",
   "execution_count": null,
   "id": "victorian-mercy",
   "metadata": {},
   "outputs": [],
   "source": [
    "#To order the whole data in the decreasing order of gross income."
   ]
  },
  {
   "cell_type": "code",
   "execution_count": 8,
   "id": "welsh-valuable",
   "metadata": {
    "scrolled": true
   },
   "outputs": [
    {
     "name": "stdout",
     "output_type": "stream",
     "text": [
      " * sqlite:///Supermarket.sqlite3\n",
      "Done.\n"
     ]
    },
    {
     "data": {
      "text/html": [
       "<table>\n",
       "    <tr>\n",
       "        <th>InvoiceID</th>\n",
       "        <th>Branch</th>\n",
       "        <th>City</th>\n",
       "        <th>Customer</th>\n",
       "        <th>Gender</th>\n",
       "        <th>Product</th>\n",
       "        <th>Unitprice</th>\n",
       "        <th>Quantity</th>\n",
       "        <th>Tax5%</th>\n",
       "        <th>Total</th>\n",
       "        <th>Date</th>\n",
       "        <th>Time</th>\n",
       "        <th>Payment</th>\n",
       "        <th>cogs</th>\n",
       "        <th>grossmargin</th>\n",
       "        <th>grossincome</th>\n",
       "        <th>Rating</th>\n",
       "        <th>field18</th>\n",
       "    </tr>\n",
       "    <tr>\n",
       "        <td>860-79-0874</td>\n",
       "        <td>C</td>\n",
       "        <td>Naypyitaw</td>\n",
       "        <td>Member</td>\n",
       "        <td>Female</td>\n",
       "        <td>Fashion accessories</td>\n",
       "        <td>99.3</td>\n",
       "        <td>10</td>\n",
       "        <td>49.65</td>\n",
       "        <td>1042.65</td>\n",
       "        <td>2/15/2019</td>\n",
       "        <td>14:53</td>\n",
       "        <td>Credit card</td>\n",
       "        <td>993.0</td>\n",
       "        <td>4.761904762</td>\n",
       "        <td>49.65</td>\n",
       "        <td>6.6</td>\n",
       "        <td>None</td>\n",
       "    </tr>\n",
       "    <tr>\n",
       "        <td>687-47-8271</td>\n",
       "        <td>A</td>\n",
       "        <td>Yangon</td>\n",
       "        <td>Normal</td>\n",
       "        <td>Male</td>\n",
       "        <td>Fashion accessories</td>\n",
       "        <td>98.98</td>\n",
       "        <td>10</td>\n",
       "        <td>49.49</td>\n",
       "        <td>1039.29</td>\n",
       "        <td>02/08/2019</td>\n",
       "        <td>16:20</td>\n",
       "        <td>Credit card</td>\n",
       "        <td>989.8</td>\n",
       "        <td>4.761904762</td>\n",
       "        <td>49.49</td>\n",
       "        <td>8.7</td>\n",
       "        <td>None</td>\n",
       "    </tr>\n",
       "    <tr>\n",
       "        <td>283-26-5248</td>\n",
       "        <td>C</td>\n",
       "        <td>Naypyitaw</td>\n",
       "        <td>Member</td>\n",
       "        <td>Female</td>\n",
       "        <td>Food and beverages</td>\n",
       "        <td>98.52</td>\n",
       "        <td>10</td>\n",
       "        <td>49.26</td>\n",
       "        <td>1034.46</td>\n",
       "        <td>1/30/2019</td>\n",
       "        <td>20:23</td>\n",
       "        <td>Ewallet</td>\n",
       "        <td>985.2</td>\n",
       "        <td>4.761904762</td>\n",
       "        <td>49.26</td>\n",
       "        <td>4.5</td>\n",
       "        <td>None</td>\n",
       "    </tr>\n",
       "    <tr>\n",
       "        <td>751-41-9720</td>\n",
       "        <td>C</td>\n",
       "        <td>Naypyitaw</td>\n",
       "        <td>Normal</td>\n",
       "        <td>Male</td>\n",
       "        <td>Home and lifestyle</td>\n",
       "        <td>97.5</td>\n",
       "        <td>10</td>\n",
       "        <td>48.75</td>\n",
       "        <td>1023.75</td>\n",
       "        <td>01/12/2019</td>\n",
       "        <td>16:18</td>\n",
       "        <td>Ewallet</td>\n",
       "        <td>975.0</td>\n",
       "        <td>4.761904762</td>\n",
       "        <td>48.75</td>\n",
       "        <td>8.0</td>\n",
       "        <td>None</td>\n",
       "    </tr>\n",
       "    <tr>\n",
       "        <td>303-96-2227</td>\n",
       "        <td>B</td>\n",
       "        <td>Mandalay</td>\n",
       "        <td>Normal</td>\n",
       "        <td>Female</td>\n",
       "        <td>Home and lifestyle</td>\n",
       "        <td>97.38</td>\n",
       "        <td>10</td>\n",
       "        <td>48.69</td>\n",
       "        <td>1022.49</td>\n",
       "        <td>03/02/2019</td>\n",
       "        <td>17:16</td>\n",
       "        <td>Ewallet</td>\n",
       "        <td>973.8</td>\n",
       "        <td>4.761904762</td>\n",
       "        <td>48.69</td>\n",
       "        <td>4.4</td>\n",
       "        <td>None</td>\n",
       "    </tr>\n",
       "    <tr>\n",
       "        <td>744-16-7898</td>\n",
       "        <td>B</td>\n",
       "        <td>Mandalay</td>\n",
       "        <td>Normal</td>\n",
       "        <td>Female</td>\n",
       "        <td>Home and lifestyle</td>\n",
       "        <td>97.37</td>\n",
       "        <td>10</td>\n",
       "        <td>48.685</td>\n",
       "        <td>1022.385</td>\n",
       "        <td>1/15/2019</td>\n",
       "        <td>13:48</td>\n",
       "        <td>Credit card</td>\n",
       "        <td>973.7</td>\n",
       "        <td>4.761904762</td>\n",
       "        <td>48.685</td>\n",
       "        <td>4.9</td>\n",
       "        <td>None</td>\n",
       "    </tr>\n",
       "    <tr>\n",
       "        <td>271-88-8734</td>\n",
       "        <td>C</td>\n",
       "        <td>Naypyitaw</td>\n",
       "        <td>Member</td>\n",
       "        <td>Female</td>\n",
       "        <td>Fashion accessories</td>\n",
       "        <td>97.21</td>\n",
       "        <td>10</td>\n",
       "        <td>48.605</td>\n",
       "        <td>1020.705</td>\n",
       "        <td>02/08/2019</td>\n",
       "        <td>13:00</td>\n",
       "        <td>Credit card</td>\n",
       "        <td>972.1</td>\n",
       "        <td>4.761904762</td>\n",
       "        <td>48.605</td>\n",
       "        <td>8.7</td>\n",
       "        <td>None</td>\n",
       "    </tr>\n",
       "    <tr>\n",
       "        <td>234-65-2137</td>\n",
       "        <td>C</td>\n",
       "        <td>Naypyitaw</td>\n",
       "        <td>Normal</td>\n",
       "        <td>Male</td>\n",
       "        <td>Home and lifestyle</td>\n",
       "        <td>95.58</td>\n",
       "        <td>10</td>\n",
       "        <td>47.79</td>\n",
       "        <td>1003.59</td>\n",
       "        <td>1/16/2019</td>\n",
       "        <td>13:32</td>\n",
       "        <td>Cash</td>\n",
       "        <td>955.8</td>\n",
       "        <td>4.761904762</td>\n",
       "        <td>47.79</td>\n",
       "        <td>4.8</td>\n",
       "        <td>None</td>\n",
       "    </tr>\n",
       "    <tr>\n",
       "        <td>554-42-2417</td>\n",
       "        <td>C</td>\n",
       "        <td>Naypyitaw</td>\n",
       "        <td>Normal</td>\n",
       "        <td>Female</td>\n",
       "        <td>Sports and travel</td>\n",
       "        <td>95.44</td>\n",
       "        <td>10</td>\n",
       "        <td>47.72</td>\n",
       "        <td>1002.12</td>\n",
       "        <td>01/09/2019</td>\n",
       "        <td>13:45</td>\n",
       "        <td>Cash</td>\n",
       "        <td>954.4</td>\n",
       "        <td>4.761904762</td>\n",
       "        <td>47.72</td>\n",
       "        <td>5.2</td>\n",
       "        <td>None</td>\n",
       "    </tr>\n",
       "    <tr>\n",
       "        <td>325-77-6186</td>\n",
       "        <td>A</td>\n",
       "        <td>Yangon</td>\n",
       "        <td>Member</td>\n",
       "        <td>Female</td>\n",
       "        <td>Home and lifestyle</td>\n",
       "        <td>90.65</td>\n",
       "        <td>10</td>\n",
       "        <td>45.325</td>\n",
       "        <td>951.825</td>\n",
       "        <td>03/08/2019</td>\n",
       "        <td>10:53</td>\n",
       "        <td>Ewallet</td>\n",
       "        <td>906.5</td>\n",
       "        <td>4.761904762</td>\n",
       "        <td>45.325</td>\n",
       "        <td>7.3</td>\n",
       "        <td>None</td>\n",
       "    </tr>\n",
       "</table>"
      ],
      "text/plain": [
       "[('860-79-0874', 'C', 'Naypyitaw', 'Member', 'Female', 'Fashion accessories', 99.3, 10, 49.65, 1042.65, '2/15/2019', '14:53', 'Credit card', 993.0, 4.761904762, 49.65, 6.6, None),\n",
       " ('687-47-8271', 'A', 'Yangon', 'Normal', 'Male', 'Fashion accessories', 98.98, 10, 49.49, 1039.29, '02/08/2019', '16:20', 'Credit card', 989.8, 4.761904762, 49.49, 8.7, None),\n",
       " ('283-26-5248', 'C', 'Naypyitaw', 'Member', 'Female', 'Food and beverages', 98.52, 10, 49.26, 1034.46, '1/30/2019', '20:23', 'Ewallet', 985.2, 4.761904762, 49.26, 4.5, None),\n",
       " ('751-41-9720', 'C', 'Naypyitaw', 'Normal', 'Male', 'Home and lifestyle', 97.5, 10, 48.75, 1023.75, '01/12/2019', '16:18', 'Ewallet', 975.0, 4.761904762, 48.75, 8.0, None),\n",
       " ('303-96-2227', 'B', 'Mandalay', 'Normal', 'Female', 'Home and lifestyle', 97.38, 10, 48.69, 1022.49, '03/02/2019', '17:16', 'Ewallet', 973.8, 4.761904762, 48.69, 4.4, None),\n",
       " ('744-16-7898', 'B', 'Mandalay', 'Normal', 'Female', 'Home and lifestyle', 97.37, 10, 48.685, 1022.385, '1/15/2019', '13:48', 'Credit card', 973.7, 4.761904762, 48.685, 4.9, None),\n",
       " ('271-88-8734', 'C', 'Naypyitaw', 'Member', 'Female', 'Fashion accessories', 97.21, 10, 48.605, 1020.705, '02/08/2019', '13:00', 'Credit card', 972.1, 4.761904762, 48.605, 8.7, None),\n",
       " ('234-65-2137', 'C', 'Naypyitaw', 'Normal', 'Male', 'Home and lifestyle', 95.58, 10, 47.79, 1003.59, '1/16/2019', '13:32', 'Cash', 955.8, 4.761904762, 47.79, 4.8, None),\n",
       " ('554-42-2417', 'C', 'Naypyitaw', 'Normal', 'Female', 'Sports and travel', 95.44, 10, 47.72, 1002.12, '01/09/2019', '13:45', 'Cash', 954.4, 4.761904762, 47.72, 5.2, None),\n",
       " ('325-77-6186', 'A', 'Yangon', 'Member', 'Female', 'Home and lifestyle', 90.65, 10, 45.325, 951.825, '03/08/2019', '10:53', 'Ewallet', 906.5, 4.761904762, 45.325, 7.3, None)]"
      ]
     },
     "execution_count": 8,
     "metadata": {},
     "output_type": "execute_result"
    }
   ],
   "source": [
    "%sql select * from supermarket order by grossincome desc limit 10"
   ]
  },
  {
   "cell_type": "code",
   "execution_count": null,
   "id": "settled-literacy",
   "metadata": {},
   "outputs": [],
   "source": [
    "#To find the maximum rating"
   ]
  },
  {
   "cell_type": "code",
   "execution_count": 32,
   "id": "removable-wound",
   "metadata": {
    "scrolled": true
   },
   "outputs": [
    {
     "name": "stdout",
     "output_type": "stream",
     "text": [
      " * sqlite:///Supermarket.sqlite3\n",
      "Done.\n"
     ]
    },
    {
     "data": {
      "text/html": [
       "<table>\n",
       "    <tr>\n",
       "        <th>max(rating)</th>\n",
       "    </tr>\n",
       "    <tr>\n",
       "        <td>10.0</td>\n",
       "    </tr>\n",
       "</table>"
      ],
      "text/plain": [
       "[(10.0,)]"
      ]
     },
     "execution_count": 32,
     "metadata": {},
     "output_type": "execute_result"
    }
   ],
   "source": [
    "%sql select max(rating) from supermarket"
   ]
  },
  {
   "cell_type": "code",
   "execution_count": null,
   "id": "tutorial-acting",
   "metadata": {},
   "outputs": [],
   "source": [
    "#To find the total number of each payment"
   ]
  },
  {
   "cell_type": "code",
   "execution_count": 35,
   "id": "abroad-relay",
   "metadata": {
    "scrolled": true
   },
   "outputs": [
    {
     "name": "stdout",
     "output_type": "stream",
     "text": [
      " * sqlite:///Supermarket.sqlite3\n",
      "Done.\n"
     ]
    },
    {
     "data": {
      "text/html": [
       "<table>\n",
       "    <tr>\n",
       "        <th>Payment</th>\n",
       "        <th>Number</th>\n",
       "    </tr>\n",
       "    <tr>\n",
       "        <td>Cash</td>\n",
       "        <td>344</td>\n",
       "    </tr>\n",
       "    <tr>\n",
       "        <td>Credit card</td>\n",
       "        <td>311</td>\n",
       "    </tr>\n",
       "    <tr>\n",
       "        <td>Ewallet</td>\n",
       "        <td>345</td>\n",
       "    </tr>\n",
       "</table>"
      ],
      "text/plain": [
       "[('Cash', 344), ('Credit card', 311), ('Ewallet', 345)]"
      ]
     },
     "execution_count": 35,
     "metadata": {},
     "output_type": "execute_result"
    }
   ],
   "source": [
    "%sql select payment,count(payment) as Number from supermarket group by payment"
   ]
  },
  {
   "cell_type": "code",
   "execution_count": null,
   "id": "champion-rings",
   "metadata": {},
   "outputs": [],
   "source": [
    "#To find the total number of each product"
   ]
  },
  {
   "cell_type": "code",
   "execution_count": 37,
   "id": "golden-retention",
   "metadata": {},
   "outputs": [
    {
     "name": "stdout",
     "output_type": "stream",
     "text": [
      " * sqlite:///Supermarket.sqlite3\n",
      "Done.\n"
     ]
    },
    {
     "data": {
      "text/html": [
       "<table>\n",
       "    <tr>\n",
       "        <th>Product</th>\n",
       "        <th>number</th>\n",
       "    </tr>\n",
       "    <tr>\n",
       "        <td>Electronic accessories</td>\n",
       "        <td>170</td>\n",
       "    </tr>\n",
       "    <tr>\n",
       "        <td>Fashion accessories</td>\n",
       "        <td>178</td>\n",
       "    </tr>\n",
       "    <tr>\n",
       "        <td>Food and beverages</td>\n",
       "        <td>174</td>\n",
       "    </tr>\n",
       "    <tr>\n",
       "        <td>Health and beauty</td>\n",
       "        <td>152</td>\n",
       "    </tr>\n",
       "    <tr>\n",
       "        <td>Home and lifestyle</td>\n",
       "        <td>160</td>\n",
       "    </tr>\n",
       "    <tr>\n",
       "        <td>Sports and travel</td>\n",
       "        <td>166</td>\n",
       "    </tr>\n",
       "</table>"
      ],
      "text/plain": [
       "[('Electronic accessories', 170),\n",
       " ('Fashion accessories', 178),\n",
       " ('Food and beverages', 174),\n",
       " ('Health and beauty', 152),\n",
       " ('Home and lifestyle', 160),\n",
       " ('Sports and travel', 166)]"
      ]
     },
     "execution_count": 37,
     "metadata": {},
     "output_type": "execute_result"
    }
   ],
   "source": [
    "%sql select product,count(product) as number from supermarket group by product"
   ]
  },
  {
   "cell_type": "code",
   "execution_count": null,
   "id": "aggregate-nowhere",
   "metadata": {},
   "outputs": [],
   "source": [
    "%sql"
   ]
  },
  {
   "cell_type": "code",
   "execution_count": null,
   "id": "general-ukraine",
   "metadata": {},
   "outputs": [],
   "source": [
    "%sql"
   ]
  },
  {
   "cell_type": "code",
   "execution_count": null,
   "id": "rocky-synthesis",
   "metadata": {},
   "outputs": [],
   "source": [
    "%sql"
   ]
  }
 ],
 "metadata": {
  "kernelspec": {
   "display_name": "Python 3",
   "language": "python",
   "name": "python3"
  },
  "language_info": {
   "codemirror_mode": {
    "name": "ipython",
    "version": 3
   },
   "file_extension": ".py",
   "mimetype": "text/x-python",
   "name": "python",
   "nbconvert_exporter": "python",
   "pygments_lexer": "ipython3",
   "version": "3.6.1"
  }
 },
 "nbformat": 4,
 "nbformat_minor": 5
}
